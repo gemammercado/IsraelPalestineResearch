{
  "cells": [
    {
      "cell_type": "markdown",
      "metadata": {
        "id": "view-in-github",
        "colab_type": "text"
      },
      "source": [
        "<a href=\"https://colab.research.google.com/github/gemammercado/IsraelPalestineResearch/blob/main/Project.ipynb\" target=\"_parent\"><img src=\"https://colab.research.google.com/assets/colab-badge.svg\" alt=\"Open In Colab\"/></a>"
      ]
    },
    {
      "cell_type": "code",
      "execution_count": null,
      "id": "8bfb63f2-c541-484a-8aa5-6896d5ad59d8",
      "metadata": {
        "colab": {
          "base_uri": "https://localhost:8080/",
          "height": 70
        },
        "id": "8bfb63f2-c541-484a-8aa5-6896d5ad59d8",
        "outputId": "5165554e-57da-4981-dd4c-d928dceb78f1"
      },
      "outputs": [
        {
          "output_type": "stream",
          "name": "stderr",
          "text": [
            "[nltk_data] Downloading package vader_lexicon to /root/nltk_data...\n"
          ]
        },
        {
          "output_type": "stream",
          "name": "stdout",
          "text": [
            "Mounted at /content/drive\n"
          ]
        },
        {
          "output_type": "execute_result",
          "data": {
            "text/plain": [
              "\"!pip uninstall nltk -y # Uninstall NLTK\\n!pip install --upgrade --force-reinstall nltk # Reinstall NLTK\\n\\nimport nltk\\nnltk.download('vader_lexicon') # Download vader_lexicon\""
            ],
            "application/vnd.google.colaboratory.intrinsic+json": {
              "type": "string"
            }
          },
          "metadata": {},
          "execution_count": 1
        }
      ],
      "source": [
        "import os\n",
        "import pandas as pd\n",
        "import re\n",
        "import zipfile\n",
        "import nltk\n",
        "import torch\n",
        "from transformers import BertTokenizer, BertForSequenceClassification, Trainer, TrainingArguments\n",
        "from nltk.sentiment.vader import SentimentIntensityAnalyzer\n",
        "from google.colab import drive\n",
        "from torch.utils.data import Dataset, DataLoader\n",
        "from sklearn.model_selection import train_test_split\n",
        "import statsmodels.api as sm\n",
        "from statsmodels.formula.api import ols\n",
        "from statsmodels.stats.multicomp import pairwise_tukeyhsd\n",
        "\n",
        "os.environ[\"WANDB_DISABLED\"] = \"true\"\n",
        "\n",
        "os.environ['SHELL'] = '/opt/homebrew/bin/bash'\n",
        "nltk.download('vader_lexicon')\n",
        "\n",
        "\n",
        "drive.mount('/content/drive')\n",
        "\n",
        "\n",
        "csv_path = '/content/drive/MyDrive/bert_predictions.csv'\n",
        "df = pd.read_csv(csv_path)\n",
        "\n",
        "\"\"\"!pip uninstall nltk -y # Uninstall NLTK\n",
        "!pip install --upgrade --force-reinstall nltk # Reinstall NLTK\n",
        "\n",
        "import nltk\n",
        "nltk.download('vader_lexicon') # Download vader_lexicon\"\"\""
      ]
    },
    {
      "cell_type": "markdown",
      "id": "d97da46b-805a-4a12-94ee-d2f5e6eac8cc",
      "metadata": {
        "id": "d97da46b-805a-4a12-94ee-d2f5e6eac8cc"
      },
      "source": [
        "\n",
        "Now we have a filtered_df and csv of the final data we are going to use."
      ]
    },
    {
      "cell_type": "code",
      "execution_count": null,
      "id": "624d96c6-4bc7-4198-92b3-3a9c8fb922fd",
      "metadata": {
        "colab": {
          "base_uri": "https://localhost:8080/"
        },
        "id": "624d96c6-4bc7-4198-92b3-3a9c8fb922fd",
        "outputId": "315aa738-f2b3-4334-e00e-e15ac2b7c3f3"
      },
      "outputs": [
        {
          "output_type": "stream",
          "name": "stdout",
          "text": [
            "VADER subset size: 10000\n",
            "BERT subset size: 250000\n"
          ]
        }
      ],
      "source": [
        "sia = SentimentIntensityAnalyzer()\n",
        "\n",
        "vader_sample_size = 10000\n",
        "bert_sample_size = 250000\n",
        "\n",
        "vader_df = df.sample(n=vader_sample_size, random_state=42)\n",
        "\n",
        "remaining_df = df.drop(vader_df.index)\n",
        "\n",
        "bert_df = remaining_df.sample(n=bert_sample_size, random_state=42)\n",
        "\n",
        "print(f\"VADER subset size: {len(vader_df)}\")\n",
        "print(f\"BERT subset size: {len(bert_df)}\")"
      ]
    },
    {
      "cell_type": "code",
      "execution_count": null,
      "id": "9309d42f-42e6-44fd-a978-1b3ca19ac777",
      "metadata": {
        "colab": {
          "base_uri": "https://localhost:8080/"
        },
        "id": "9309d42f-42e6-44fd-a978-1b3ca19ac777",
        "outputId": "724fa52f-04c1-47c7-91ed-8c4aa43ebc06"
      },
      "outputs": [
        {
          "output_type": "stream",
          "name": "stdout",
          "text": [
            "        comment_id  score                                          self_text  \\\n",
            "1418796    ka8602d      1                           More tunnels and rockets   \n",
            "1141828    kf26cmy      4  Link to the actual article.\\n\\n**Unless you en...   \n",
            "843056     ksi5j8a      1  Thanks for an insight into this and for being ...   \n",
            "155018     ljda27r      2  You’re angry because you can’t figure out what...   \n",
            "629993     kzqu9cr      5                            So less than 20 left...   \n",
            "\n",
            "               subreddit         created_time  post_id           author_name  \\\n",
            "1418796        worldnews  2023-11-21 23:07:53  180pznz    Pyjama_Llama_Karma   \n",
            "1141828    AskMiddleEast  2023-12-27 00:51:55  18r9g5u   itsasnowconemachine   \n",
            "843056   IsraelPalestine  2024-02-28 07:14:51  1b1xmh8      FractalMetaphors   \n",
            "155018   IsraelPalestine  2024-08-22 12:34:15  1ey57vs        MissingNo_000_   \n",
            "629993         worldnews  2024-04-15 22:03:50  1c4tcel  No-Introduction-6368   \n",
            "\n",
            "         controversiality  ups  downs  ...  user_comment_karma  \\\n",
            "1418796                 0    1      0  ...            128768.0   \n",
            "1141828                 0    4      0  ...             44085.0   \n",
            "843056                  0    1      0  ...             14880.0   \n",
            "155018                  0    2      0  ...              1130.0   \n",
            "629993                  0    5      0  ...              3441.0   \n",
            "\n",
            "        user_total_karma  post_score  \\\n",
            "1418796         129349.0          97   \n",
            "1141828          45727.0         201   \n",
            "843056           14940.0         114   \n",
            "155018            1167.0           0   \n",
            "629993            4110.0        4390   \n",
            "\n",
            "                                            post_self_text  \\\n",
            "1418796                                                NaN   \n",
            "1141828                                                NaN   \n",
            "843056   Aaron Bushnell, an American Air Force veteran,...   \n",
            "155018   I am going to make some claims that challenge ...   \n",
            "629993                                                 NaN   \n",
            "\n",
            "                                                post_title  post_upvote_ratio  \\\n",
            "1418796  \"The absolute minimum\": Communities in Gaza do...               0.72   \n",
            "1141828  Israeli media now don't even hide that they st...               0.94   \n",
            "843056   The Palestinian cause, martyrdom, and Aaron Bu...               0.73   \n",
            "155018                            Israel is a rogue state                0.27   \n",
            "629993   Hamas offers to release only 20 hostages in ce...               0.92   \n",
            "\n",
            "         post_thumbs_ups  post_total_awards_received    post_created_time  \\\n",
            "1418796               97                           0  2023-11-21 20:03:36   \n",
            "1141828              201                           0  2023-12-26 14:38:02   \n",
            "843056               114                           0  2024-02-28 04:56:30   \n",
            "155018                 0                           0  2024-08-22 00:06:54   \n",
            "629993              4390                           0  2024-04-15 18:20:04   \n",
            "\n",
            "                                                clean_text  \n",
            "1418796                           more tunnels and rockets  \n",
            "1141828  link to the actual article.\\n\\n**unless you en...  \n",
            "843056   thanks for an insight into this and for being ...  \n",
            "155018   you’re angry because you can’t figure out what...  \n",
            "629993                             so less than 20 left...  \n",
            "\n",
            "[5 rows x 25 columns]\n"
          ]
        }
      ],
      "source": [
        "def clean_text(self_text):\n",
        "    text = re.sub(r\"http\\S+\", \"\", self_text)\n",
        "    text = re.sub(r\"@\\w+\", \"\", text)\n",
        "    text = re.sub(r\"[^A-Za-z0-9\\s]\", \"\", text)\n",
        "    text = self_text.lower().strip()\n",
        "    return text\n",
        "\n",
        "vader_df['clean_text'] = vader_df['self_text'].apply(lambda x: clean_text(str(x)))\n",
        "\n",
        "print(vader_df.head())"
      ]
    },
    {
      "cell_type": "code",
      "source": [
        "bert_df['clean_text'] = bert_df['self_text'].apply(lambda x: clean_text(str(x)))\n",
        "\n",
        "print(bert_df.head())"
      ],
      "metadata": {
        "colab": {
          "base_uri": "https://localhost:8080/"
        },
        "id": "Hzva4f6EyrOJ",
        "outputId": "d6426d1f-a5d1-40cf-8fdf-3ec17b63d831"
      },
      "id": "Hzva4f6EyrOJ",
      "execution_count": null,
      "outputs": [
        {
          "output_type": "stream",
          "name": "stdout",
          "text": [
            "        comment_id  score                                          self_text  \\\n",
            "736101     kwcam5d     15  Pakistanis are dumb sometimes I swear, this is...   \n",
            "926993     kppuklp      1  Well, sounds like you made up your mind regard...   \n",
            "287717     lc3rfkg      1  Things that might be controversial one day are...   \n",
            "1221879    kdbvkf5      2                                        🪂🪂🪂     🔻🔻🔻   \n",
            "22376      lpxymc7     13  Just to add to this. They don't know if those ...   \n",
            "\n",
            "               subreddit         created_time  post_id        author_name  \\\n",
            "736101     AskMiddleEast  2024-03-24 14:16:00  1bmjuzh     Wanttodate1995   \n",
            "926993   IsraelPalestine  2024-02-10 00:45:30  1amyajr  pinkytoesupremacy   \n",
            "287717   IsraelPalestine  2024-07-07 22:10:06  1dxegor   CreativeRealmsMC   \n",
            "1221879    AskMiddleEast  2023-12-14 15:20:22  18hrqyb   Its_my_ghenetiks   \n",
            "22376          worldnews  2024-10-02 07:29:47  1fua33m              Brewe   \n",
            "\n",
            "         controversiality  ups  downs  ...  user_comment_karma  \\\n",
            "736101                  0   15      0  ...              8295.0   \n",
            "926993                  1    1      0  ...              1562.0   \n",
            "287717                  0    1      0  ...             66478.0   \n",
            "1221879                 0    2      0  ...             37925.0   \n",
            "22376                   0   13      0  ...            288090.0   \n",
            "\n",
            "        user_total_karma  post_score  \\\n",
            "736101            8664.0         112   \n",
            "926993            1601.0          73   \n",
            "287717          115560.0           3   \n",
            "1221879          54689.0         223   \n",
            "22376           306177.0         291   \n",
            "\n",
            "                                            post_self_text  \\\n",
            "736101   The girl was wearing a dress from a **Kuwaiti*...   \n",
            "926993   Recently, the WSJ published [this op-ed](https...   \n",
            "287717   now according to **todays** [haaretz report/te...   \n",
            "1221879                                                NaN   \n",
            "22376                                                  NaN   \n",
            "\n",
            "                                                post_title  post_upvote_ratio  \\\n",
            "736101   A Pakistani girl was threatened with death and...               0.84   \n",
            "926993                           Islamophobia is overblown               0.63   \n",
            "287717   \"Not a single vehicle can return to Gaza\" new ...               0.51   \n",
            "1221879  Thoughts on Palestinians always refusing peace...               0.72   \n",
            "22376    Danish police investigate two blasts near Isra...               0.93   \n",
            "\n",
            "         post_thumbs_ups  post_total_awards_received    post_created_time  \\\n",
            "736101               112                           0  2024-03-24 12:42:59   \n",
            "926993                73                           0  2024-02-09 20:50:30   \n",
            "287717                 3                           0  2024-07-07 11:33:58   \n",
            "1221879              223                           0  2023-12-13 21:30:45   \n",
            "22376                291                           0  2024-10-02 06:51:50   \n",
            "\n",
            "                                                clean_text  \n",
            "736101   pakistanis are dumb sometimes i swear, this is...  \n",
            "926993   well, sounds like you made up your mind regard...  \n",
            "287717   things that might be controversial one day are...  \n",
            "1221879                                        🪂🪂🪂     🔻🔻🔻  \n",
            "22376    just to add to this. they don't know if those ...  \n",
            "\n",
            "[5 rows x 25 columns]\n"
          ]
        }
      ]
    },
    {
      "cell_type": "code",
      "execution_count": null,
      "id": "2a1d416b-9663-4e7c-832f-1882a869413f",
      "metadata": {
        "id": "2a1d416b-9663-4e7c-832f-1882a869413f"
      },
      "outputs": [],
      "source": [
        "vader_df['vader_sentiment'] = vader_df['clean_text'].apply(lambda x: sia.polarity_scores(x)['compound'])\n",
        "\n",
        "vader_df['sentiment_label'] = vader_df['vader_sentiment'].apply(lambda score: 'extreme negative' if score <-0.5 else\n",
        "                                                                  'negative' if -0.5<= score < -.05 else\n",
        "                                                                  'positive' if score >=0.05 else\n",
        "                                                                  'neutral')"
      ]
    },
    {
      "cell_type": "code",
      "execution_count": null,
      "id": "3d5b0b9a-f5c1-436d-8ef9-a53bede023d3",
      "metadata": {
        "colab": {
          "base_uri": "https://localhost:8080/"
        },
        "id": "3d5b0b9a-f5c1-436d-8ef9-a53bede023d3",
        "outputId": "7150226d-285a-4cf0-bd40-732c9bfeabf8"
      },
      "outputs": [
        {
          "output_type": "stream",
          "name": "stdout",
          "text": [
            "                                                clean_text  vader_sentiment  \\\n",
            "1418796                           more tunnels and rockets           0.0000   \n",
            "1141828  link to the actual article.\\n\\n**unless you en...           0.4710   \n",
            "843056   thanks for an insight into this and for being ...          -0.8359   \n",
            "155018   you’re angry because you can’t figure out what...           0.3400   \n",
            "629993                             so less than 20 left...           0.0000   \n",
            "\n",
            "          sentiment_label  \n",
            "1418796           neutral  \n",
            "1141828          positive  \n",
            "843056   extreme negative  \n",
            "155018           positive  \n",
            "629993            neutral  \n"
          ]
        }
      ],
      "source": [
        "print(vader_df[['clean_text', 'vader_sentiment', 'sentiment_label']].head())"
      ]
    },
    {
      "cell_type": "code",
      "execution_count": null,
      "id": "3bcf7b77-6b14-45ef-8545-13d6619d8b43",
      "metadata": {
        "id": "3bcf7b77-6b14-45ef-8545-13d6619d8b43"
      },
      "outputs": [],
      "source": [
        "train_df, test_df = train_test_split(vader_df, test_size=0.2, random_state=42)\n",
        "\n",
        "label_map = {'extreme negative': 0, 'negative':1, 'neutral': 2, 'positive':3}\n",
        "train_labels = train_df['sentiment_label'].map(label_map).tolist()\n",
        "test_labels = test_df['sentiment_label'].map(label_map).tolist()"
      ]
    },
    {
      "cell_type": "code",
      "execution_count": null,
      "id": "1981d5da-c0ef-4172-8a2e-3147832adec8",
      "metadata": {
        "colab": {
          "base_uri": "https://localhost:8080/"
        },
        "id": "1981d5da-c0ef-4172-8a2e-3147832adec8",
        "outputId": "a46e59e8-9b1a-48fe-8ae9-8ec987fc5c64"
      },
      "outputs": [
        {
          "output_type": "stream",
          "name": "stdout",
          "text": [
            "Index(['comment_id', 'score', 'self_text', 'subreddit', 'created_time',\n",
            "       'post_id', 'author_name', 'controversiality', 'ups', 'downs',\n",
            "       'user_is_verified', 'user_account_created_time', 'user_awardee_karma',\n",
            "       'user_awarder_karma', 'user_link_karma', 'user_comment_karma',\n",
            "       'user_total_karma', 'post_score', 'post_self_text', 'post_title',\n",
            "       'post_upvote_ratio', 'post_thumbs_ups', 'post_total_awards_received',\n",
            "       'post_created_time', 'clean_text', 'vader_sentiment',\n",
            "       'sentiment_label'],\n",
            "      dtype='object')\n"
          ]
        }
      ],
      "source": [
        "print(train_df.columns)"
      ]
    },
    {
      "cell_type": "code",
      "execution_count": null,
      "id": "439d5cf3-14e1-47ee-9149-a3dcb7d41548",
      "metadata": {
        "colab": {
          "base_uri": "https://localhost:8080/",
          "height": 269,
          "referenced_widgets": [
            "ff416e3810bb474195592e857859bd4d",
            "325553c2610b4dc9ac9979b988ba81d1",
            "bb920ba5fc2a492cb579c72d631cc987",
            "636e40a9ae2e4e9d9cfd348742aacb37",
            "83b644de49e54b7199815412e4250ac9",
            "5a2f405088d641e0bf2daee7dd59629e",
            "ef1527a36f9d41c48d2df9d44317a68c",
            "013fce5389bd49ed827dd98a5b75b5d1",
            "e7737d21a8464239a2c0e7867edae28a",
            "458e20889c1d4f5cbfbbfe52a4d995d4",
            "3977afb1d7d440b996a01666aebcb952",
            "3d707193ce124c39947090288ca2ac2b",
            "79c727661bb4477689d3ce46d0b877d0",
            "38a6bc25329f4d4b8a5c6636284ee8c5",
            "43423228b5324c849657299facd94104",
            "57feddbe923c4d468bb3e22932829448",
            "de231bf273c54b9da3632e638815412b",
            "67471eba4b9b431399c0893819140d81",
            "dba00fd49c3e44a498a3a2eafdc887fb",
            "d4b940f1988244e38f780e083b37398c",
            "352cb9d1e8ba47fdb2f7233d8861d5ac",
            "b535165adb484c5093d5387d158e564e",
            "885761ca4a554946acbb3505e5c68ece",
            "8071069ff0074b97abf4f94e23d2582d",
            "91926313d57244c1a25d45e5e5422270",
            "284aab05e30d4894bf64568c2968053e",
            "c3a47809c1414c1da8504b8c8b9f349f",
            "610c2ad4846e45b78e70563aced754d1",
            "45900d5bb58e4729ad34d10de20d06fa",
            "f64fa1622fc74379a77160d121f5ed56",
            "3f74230b92af44138f2fb5b80bf6a3c8",
            "4346187b96504378911024c254c99ab4",
            "d82ca345f6fb41d99d68ffdeac75c297",
            "b7a882b19f4242e99d1e902a669a772e",
            "a7274a4c51da42b9b2796ea47a9f2bad",
            "5e15df5e5b414238897310d9ea106ca8",
            "c958a315079b48169cd1ed4d74b4c4a9",
            "85a372da4c084b86993546331c1c5ec0",
            "9b32033b85054221923b520aa2a98bf9",
            "25bd33b6149a40b686dd0c952d8f3b93",
            "c45ee649b54e45608bf35667b7afb5d6",
            "670dc606a848477789265527af4ceaef",
            "c799cdc565bf4dbcbd85cf9eaf167bb3",
            "94c957ab6265475688236a6e26a8633b"
          ]
        },
        "id": "439d5cf3-14e1-47ee-9149-a3dcb7d41548",
        "outputId": "1eb3bb4e-c480-47d2-d03d-9bd72a986b03"
      },
      "outputs": [
        {
          "output_type": "stream",
          "name": "stderr",
          "text": [
            "/usr/local/lib/python3.10/dist-packages/huggingface_hub/utils/_auth.py:94: UserWarning: \n",
            "The secret `HF_TOKEN` does not exist in your Colab secrets.\n",
            "To authenticate with the Hugging Face Hub, create a token in your settings tab (https://huggingface.co/settings/tokens), set it as secret in your Google Colab and restart your session.\n",
            "You will be able to reuse this secret in all of your notebooks.\n",
            "Please note that authentication is recommended but still optional to access public models or datasets.\n",
            "  warnings.warn(\n"
          ]
        },
        {
          "output_type": "display_data",
          "data": {
            "text/plain": [
              "tokenizer_config.json:   0%|          | 0.00/48.0 [00:00<?, ?B/s]"
            ],
            "application/vnd.jupyter.widget-view+json": {
              "version_major": 2,
              "version_minor": 0,
              "model_id": "ff416e3810bb474195592e857859bd4d"
            }
          },
          "metadata": {}
        },
        {
          "output_type": "display_data",
          "data": {
            "text/plain": [
              "vocab.txt:   0%|          | 0.00/232k [00:00<?, ?B/s]"
            ],
            "application/vnd.jupyter.widget-view+json": {
              "version_major": 2,
              "version_minor": 0,
              "model_id": "3d707193ce124c39947090288ca2ac2b"
            }
          },
          "metadata": {}
        },
        {
          "output_type": "display_data",
          "data": {
            "text/plain": [
              "tokenizer.json:   0%|          | 0.00/466k [00:00<?, ?B/s]"
            ],
            "application/vnd.jupyter.widget-view+json": {
              "version_major": 2,
              "version_minor": 0,
              "model_id": "885761ca4a554946acbb3505e5c68ece"
            }
          },
          "metadata": {}
        },
        {
          "output_type": "display_data",
          "data": {
            "text/plain": [
              "config.json:   0%|          | 0.00/570 [00:00<?, ?B/s]"
            ],
            "application/vnd.jupyter.widget-view+json": {
              "version_major": 2,
              "version_minor": 0,
              "model_id": "b7a882b19f4242e99d1e902a669a772e"
            }
          },
          "metadata": {}
        }
      ],
      "source": [
        "tokenizer = BertTokenizer.from_pretrained('bert-base-uncased')\n",
        "\n",
        "def tokenize_data(texts):\n",
        "    return tokenizer(texts, padding=True, truncation=True, return_tensors=\"pt\")\n",
        "\n",
        "train_encodings = tokenize_data(train_df['clean_text'].tolist())\n",
        "test_encodings = tokenize_data(test_df['clean_text'].tolist())"
      ]
    },
    {
      "cell_type": "code",
      "execution_count": null,
      "id": "19bf6712-3aa8-446b-b8c6-fb8d1b664405",
      "metadata": {
        "id": "19bf6712-3aa8-446b-b8c6-fb8d1b664405"
      },
      "outputs": [],
      "source": [
        "class SentimentDataset(torch.utils.data.Dataset):\n",
        "    def __init__(self, encodings, labels=None):\n",
        "        self.encodings = encodings\n",
        "        self.labels = labels\n",
        "    def __len__(self):\n",
        "        return len(self.encodings.input_ids)\n",
        "\n",
        "    def __getitem__(self, idx):\n",
        "        item = {key: torch.tensor(val[idx]) for key, val in self.encodings.items()}\n",
        "        if self.labels is not None:\n",
        "            item['labels'] = torch.tensor(self.labels[idx])\n",
        "        return item\n"
      ]
    },
    {
      "cell_type": "code",
      "execution_count": null,
      "id": "ed915471-1b5a-468c-b540-3ae3f7d2f11b",
      "metadata": {
        "id": "ed915471-1b5a-468c-b540-3ae3f7d2f11b"
      },
      "outputs": [],
      "source": [
        "train_dataset = SentimentDataset(train_encodings, train_labels)\n",
        "test_dataset = SentimentDataset(test_encodings, test_labels)"
      ]
    },
    {
      "cell_type": "markdown",
      "id": "09a08eb3-e378-408d-8558-1036bbf2c4c5",
      "metadata": {
        "id": "09a08eb3-e378-408d-8558-1036bbf2c4c5"
      },
      "source": [
        "Define and train BERT"
      ]
    },
    {
      "cell_type": "code",
      "execution_count": null,
      "id": "eec73021-4b1f-44ae-9f28-e973f3dda822",
      "metadata": {
        "colab": {
          "base_uri": "https://localhost:8080/",
          "height": 138,
          "referenced_widgets": [
            "a994f798052b40869a36ad71c6a6cc3b",
            "96e292a674f74a89a7defcf4919ecd8e",
            "f1aa47d4c79947c29a25a19dd29db042",
            "32c3247d094d486a9ff63e2310ca55c6",
            "b1b1ff64f9ec476f86fd3544e64bdfd5",
            "9045fc67f0574e30b5071cdedb2d9ef4",
            "d4c1b597cac9433384d3c6c9c7ebfe75",
            "95596ef030b84e3c9a3edf77dd3dd6a2",
            "f5d9f9054bf34d1abc5c482e53885bf6",
            "d2df80b65a17471cb9c4d303a42e2674",
            "1fa8cdf5bbc14082a43711ffa4860b8b"
          ]
        },
        "id": "eec73021-4b1f-44ae-9f28-e973f3dda822",
        "outputId": "867cdd8b-a023-4fde-83eb-cec4c7e5471b"
      },
      "outputs": [
        {
          "output_type": "display_data",
          "data": {
            "text/plain": [
              "model.safetensors:   0%|          | 0.00/440M [00:00<?, ?B/s]"
            ],
            "application/vnd.jupyter.widget-view+json": {
              "version_major": 2,
              "version_minor": 0,
              "model_id": "a994f798052b40869a36ad71c6a6cc3b"
            }
          },
          "metadata": {}
        },
        {
          "output_type": "stream",
          "name": "stderr",
          "text": [
            "Some weights of BertForSequenceClassification were not initialized from the model checkpoint at bert-base-uncased and are newly initialized: ['classifier.bias', 'classifier.weight']\n",
            "You should probably TRAIN this model on a down-stream task to be able to use it for predictions and inference.\n",
            "/usr/local/lib/python3.10/dist-packages/transformers/training_args.py:1568: FutureWarning: `evaluation_strategy` is deprecated and will be removed in version 4.46 of 🤗 Transformers. Use `eval_strategy` instead\n",
            "  warnings.warn(\n"
          ]
        }
      ],
      "source": [
        "model = BertForSequenceClassification.from_pretrained(\"bert-base-uncased\", num_labels = len(label_map))\n",
        "\n",
        "training_args = TrainingArguments(\n",
        "    output_dir = './results',\n",
        "    save_steps = 500,\n",
        "    save_total_limit = 2,\n",
        "    evaluation_strategy = \"epoch\",\n",
        "    learning_rate = 2e-5,\n",
        "    per_device_train_batch_size = 8,\n",
        "    per_device_eval_batch_size = 8,\n",
        "    num_train_epochs=3,\n",
        "    weight_decay = 0.01\n",
        ")\n",
        "\n",
        "trainer = Trainer(\n",
        "    model = model,\n",
        "    args = training_args,\n",
        "    train_dataset = train_dataset,\n",
        "    eval_dataset = test_dataset\n",
        ")\n"
      ]
    },
    {
      "cell_type": "code",
      "execution_count": null,
      "id": "4_Uwq7sL55RG",
      "metadata": {
        "id": "4_Uwq7sL55RG"
      },
      "outputs": [],
      "source": [
        "# Save model and training state after each epoch\n",
        "trainer.save_model('/content/drive/MyDrive/bert_training/bert_classifier')\n",
        "trainer.save_state()"
      ]
    },
    {
      "cell_type": "code",
      "source": [
        "import torch\n",
        "torch.save(train_encodings, '/content/drive/MyDrive/train_encodings.pt')\n",
        "torch.save(test_encodings, '/content/drive/MyDrive/test_encodings.pt')\n",
        "torch.save(train_labels, '/content/drive/MyDrive/train_labels.pt')\n",
        "torch.save(test_labels, '/content/drive/MyDrive/test_labels.pt')\n"
      ],
      "metadata": {
        "id": "0PEFBFW6zw_E"
      },
      "id": "0PEFBFW6zw_E",
      "execution_count": null,
      "outputs": []
    },
    {
      "cell_type": "code",
      "execution_count": null,
      "id": "i4HnE_Kn6A_D",
      "metadata": {
        "id": "i4HnE_Kn6A_D",
        "colab": {
          "base_uri": "https://localhost:8080/",
          "height": 193
        },
        "outputId": "8d3d9902-bfcf-460e-e404-317c48e868e3"
      },
      "outputs": [
        {
          "metadata": {
            "tags": null
          },
          "name": "stderr",
          "output_type": "stream",
          "text": [
            "<ipython-input-26-89b9e70d32b8>:31: FutureWarning: `tokenizer` is deprecated and will be removed in version 5.0.0 for `Trainer.__init__`. Use `processing_class` instead.\n",
            "  trainer = Trainer(\n"
          ]
        },
        {
          "data": {
            "text/html": [
              "\n",
              "    <div>\n",
              "      \n",
              "      <progress value='2929' max='3000' style='width:300px; height:20px; vertical-align: middle;'></progress>\n",
              "      [2929/3000 10:38:19 < 15:29, 0.08 it/s, Epoch 2.93/3]\n",
              "    </div>\n",
              "    <table border=\"1\" class=\"dataframe\">\n",
              "  <thead>\n",
              " <tr style=\"text-align: left;\">\n",
              "      <th>Epoch</th>\n",
              "      <th>Training Loss</th>\n",
              "      <th>Validation Loss</th>\n",
              "    </tr>\n",
              "  </thead>\n",
              "  <tbody>\n",
              "    <tr>\n",
              "      <td>1</td>\n",
              "      <td>0.744300</td>\n",
              "      <td>0.685571</td>\n",
              "    </tr>\n",
              "    <tr>\n",
              "      <td>2</td>\n",
              "      <td>0.493500</td>\n",
              "      <td>0.669349</td>\n",
              "    </tr>\n",
              "  </tbody>\n",
              "</table><p>"
            ],
            "text/plain": [
              "<IPython.core.display.HTML object>"
            ]
          },
          "metadata": {},
          "output_type": "display_data"
        }
      ],
      "source": [
        "trainer.train()"
      ]
    },
    {
      "cell_type": "code",
      "source": [
        "trainer.train(resume_from_checkpoint='/content/drive/MyDrive/bert_training/bert_classifier/checkpoint-2000')"
      ],
      "metadata": {
        "colab": {
          "base_uri": "https://localhost:8080/",
          "height": 384
        },
        "id": "0YLx6UMTPWhV",
        "outputId": "6ca3e539-84ce-4133-e524-5d471e5643dd"
      },
      "id": "0YLx6UMTPWhV",
      "execution_count": null,
      "outputs": [
        {
          "metadata": {
            "tags": null
          },
          "name": "stderr",
          "output_type": "stream",
          "text": [
            "/usr/local/lib/python3.10/dist-packages/transformers/trainer.py:3354: FutureWarning: You are using `torch.load` with `weights_only=False` (the current default value), which uses the default pickle module implicitly. It is possible to construct malicious pickle data which will execute arbitrary code during unpickling (See https://github.com/pytorch/pytorch/blob/main/SECURITY.md#untrusted-models for more details). In a future release, the default value for `weights_only` will be flipped to `True`. This limits the functions that could be executed during unpickling. Arbitrary objects will no longer be allowed to be loaded via this mode unless they are explicitly allowlisted by the user via `torch.serialization.add_safe_globals`. We recommend you start setting `weights_only=True` for any use case where you don't have full control of the loaded file. Please open an issue on GitHub for any issues related to this experimental feature.\n",
            "  torch.load(os.path.join(checkpoint, OPTIMIZER_NAME), map_location=map_location)\n",
            "/usr/local/lib/python3.10/dist-packages/transformers/trainer.py:3033: FutureWarning: You are using `torch.load` with `weights_only=False` (the current default value), which uses the default pickle module implicitly. It is possible to construct malicious pickle data which will execute arbitrary code during unpickling (See https://github.com/pytorch/pytorch/blob/main/SECURITY.md#untrusted-models for more details). In a future release, the default value for `weights_only` will be flipped to `True`. This limits the functions that could be executed during unpickling. Arbitrary objects will no longer be allowed to be loaded via this mode unless they are explicitly allowlisted by the user via `torch.serialization.add_safe_globals`. We recommend you start setting `weights_only=True` for any use case where you don't have full control of the loaded file. Please open an issue on GitHub for any issues related to this experimental feature.\n",
            "  checkpoint_rng_state = torch.load(rng_file)\n"
          ]
        },
        {
          "data": {
            "text/html": [
              "\n",
              "    <div>\n",
              "      \n",
              "      <progress value='2551' max='3000' style='width:300px; height:20px; vertical-align: middle;'></progress>\n",
              "      [2551/3000 1:58:32 < 1:36:56, 0.08 it/s, Epoch 2.55/3]\n",
              "    </div>\n",
              "    <table border=\"1\" class=\"dataframe\">\n",
              "  <thead>\n",
              " <tr style=\"text-align: left;\">\n",
              "      <th>Epoch</th>\n",
              "      <th>Training Loss</th>\n",
              "      <th>Validation Loss</th>\n",
              "    </tr>\n",
              "  </thead>\n",
              "  <tbody>\n",
              "  </tbody>\n",
              "</table><p>"
            ],
            "text/plain": [
              "<IPython.core.display.HTML object>"
            ]
          },
          "metadata": {},
          "output_type": "display_data"
        },
        {
          "output_type": "display_data",
          "data": {
            "text/plain": [
              "<IPython.core.display.HTML object>"
            ],
            "text/html": [
              "\n",
              "    <div>\n",
              "      \n",
              "      <progress value='3000' max='3000' style='width:300px; height:20px; vertical-align: middle;'></progress>\n",
              "      [3000/3000 3:50:51, Epoch 3/3]\n",
              "    </div>\n",
              "    <table border=\"1\" class=\"dataframe\">\n",
              "  <thead>\n",
              " <tr style=\"text-align: left;\">\n",
              "      <th>Epoch</th>\n",
              "      <th>Training Loss</th>\n",
              "      <th>Validation Loss</th>\n",
              "    </tr>\n",
              "  </thead>\n",
              "  <tbody>\n",
              "    <tr>\n",
              "      <td>3</td>\n",
              "      <td>0.301700</td>\n",
              "      <td>0.877180</td>\n",
              "    </tr>\n",
              "  </tbody>\n",
              "</table><p>"
            ]
          },
          "metadata": {}
        },
        {
          "output_type": "display_data",
          "data": {
            "text/plain": [
              "<IPython.core.display.HTML object>"
            ],
            "text/html": [
              "\n",
              "    <div>\n",
              "      \n",
              "      <progress value='2012' max='3000' style='width:300px; height:20px; vertical-align: middle;'></progress>\n",
              "      [2012/3000 02:19 < 3:49:46, 0.07 it/s, Epoch 2.01/3]\n",
              "    </div>\n",
              "    <table border=\"1\" class=\"dataframe\">\n",
              "  <thead>\n",
              " <tr style=\"text-align: left;\">\n",
              "      <th>Epoch</th>\n",
              "      <th>Training Loss</th>\n",
              "      <th>Validation Loss</th>\n",
              "    </tr>\n",
              "  </thead>\n",
              "  <tbody>\n",
              "  </tbody>\n",
              "</table><p>\n",
              "    <div>\n",
              "      \n",
              "      <progress value='513' max='250' style='width:300px; height:20px; vertical-align: middle;'></progress>\n",
              "      [250/250 4:08:29]\n",
              "    </div>\n",
              "    "
            ]
          },
          "metadata": {}
        },
        {
          "output_type": "execute_result",
          "data": {
            "text/plain": [
              "TrainOutput(global_step=3000, training_loss=0.09974358622233073, metrics={'train_runtime': 13865.3346, 'train_samples_per_second': 1.731, 'train_steps_per_second': 0.216, 'total_flos': 6314778722304000.0, 'train_loss': 0.09974358622233073, 'epoch': 3.0})"
            ]
          },
          "metadata": {},
          "execution_count": 23
        }
      ]
    },
    {
      "cell_type": "code",
      "source": [
        "#Load model\n",
        "model_path = '/content/drive/MyDrive/bert_training/bert_classifier'\n",
        "model = BertForSequenceClassification.from_pretrained(model_path)\n",
        "tokenizer = BertTokenizer.from_pretrained(model_path)"
      ],
      "metadata": {
        "id": "XqYYcmUbxE6Z"
      },
      "id": "XqYYcmUbxE6Z",
      "execution_count": null,
      "outputs": []
    },
    {
      "cell_type": "code",
      "source": [
        "remaining_encodings = tokenize_data(bert_df['clean_text'].tolist())\n",
        "remaining_dataset = SentimentDataset(remaining_encodings)"
      ],
      "metadata": {
        "id": "HV_qXmoB7XX3"
      },
      "id": "HV_qXmoB7XX3",
      "execution_count": null,
      "outputs": []
    },
    {
      "cell_type": "code",
      "source": [
        "training_args = TrainingArguments(\n",
        "    per_device_eval_batch_size=128,\n",
        "    output_dir=\"./results\"\n",
        ")\n",
        "\n",
        "trainer = Trainer(\n",
        "    model=model,\n",
        "    args=training_args,\n",
        "    train_dataset=train_dataset,\n",
        "    eval_dataset=test_dataset\n",
        ")\n",
        "\n",
        "predictions = trainer.predict(remaining_dataset)\n",
        "\n",
        "predicted_labels = predictions.predictions.argmax(axis=1)\n",
        "\n",
        "print(\"Predictions complete!\")\n"
      ],
      "metadata": {
        "id": "m-Lxnfa4qdLu",
        "colab": {
          "base_uri": "https://localhost:8080/",
          "height": 106
        },
        "outputId": "5eca40f0-4848-4648-b5b2-09f852ccfb7d"
      },
      "id": "m-Lxnfa4qdLu",
      "execution_count": null,
      "outputs": [
        {
          "output_type": "stream",
          "name": "stderr",
          "text": [
            "Using the `WANDB_DISABLED` environment variable is deprecated and will be removed in v5. Use the --report_to flag to control the integrations used for logging result (for instance --report_to none).\n",
            "<ipython-input-8-943081edf6d8>:9: UserWarning: To copy construct from a tensor, it is recommended to use sourceTensor.clone().detach() or sourceTensor.clone().detach().requires_grad_(True), rather than torch.tensor(sourceTensor).\n",
            "  item = {key: torch.tensor(val[idx]) for key, val in self.encodings.items()}\n"
          ]
        },
        {
          "output_type": "display_data",
          "data": {
            "text/plain": [
              "<IPython.core.display.HTML object>"
            ],
            "text/html": []
          },
          "metadata": {}
        },
        {
          "output_type": "stream",
          "name": "stdout",
          "text": [
            "Predictions complete!\n"
          ]
        }
      ]
    },
    {
      "cell_type": "code",
      "source": [
        "reverse_label_map = {v: k for k, v in label_map.items()}\n",
        "\n",
        "predicted_indices = predicted_labels\n",
        "\n",
        "predicted_labels = [reverse_label_map[idx] for idx in predicted_indices]\n",
        "\n",
        "bert_df['predicted_label'] = predicted_labels\n",
        "\n",
        "# Save to CSV\n",
        "output_csv_path = '/content/drive/MyDrive/bert_predictions.csv'\n",
        "bert_df.to_csv(output_csv_path, index=False)\n",
        "print(f\"Predictions saved to: {output_csv_path}\")"
      ],
      "metadata": {
        "colab": {
          "base_uri": "https://localhost:8080/"
        },
        "id": "mU4LcqWvwbue",
        "outputId": "8365520e-5dc2-45eb-a0e5-97da8740debe"
      },
      "id": "mU4LcqWvwbue",
      "execution_count": null,
      "outputs": [
        {
          "output_type": "stream",
          "name": "stdout",
          "text": [
            "Predictions saved to: /content/drive/MyDrive/bert_predictions.csv\n"
          ]
        }
      ]
    },
    {
      "cell_type": "code",
      "source": [
        "from IPython import get_ipython\n",
        "from IPython.display import display\n",
        "from torch.utils.data import Dataset, DataLoader\n",
        "from sklearn.model_selection import train_test_split\n"
      ],
      "metadata": {
        "id": "-ybWjcS5I-AP"
      },
      "id": "-ybWjcS5I-AP",
      "execution_count": null,
      "outputs": []
    },
    {
      "cell_type": "code",
      "execution_count": null,
      "id": "kLJyl20E6q-S",
      "metadata": {
        "id": "kLJyl20E6q-S",
        "colab": {
          "base_uri": "https://localhost:8080/",
          "height": 685
        },
        "outputId": "33482a6e-840c-4251-f608-201f03b9828f"
      },
      "outputs": [
        {
          "output_type": "stream",
          "name": "stdout",
          "text": [
            "predicted_label\n",
            "positive            76720\n",
            "extreme negative    75012\n",
            "negative            56246\n",
            "neutral             42022\n",
            "Name: count, dtype: int64\n"
          ]
        },
        {
          "output_type": "display_data",
          "data": {
            "text/plain": [
              "<Figure size 640x480 with 1 Axes>"
            ],
            "image/png": "[encoded data removed]"
          },
          "metadata": {}
        }
      ],
      "source": [
        "import matplotlib.pyplot as plt\n",
        "\n",
        "#analysis\n",
        "\n",
        "print(df['predicted_label'].value_counts())\n",
        "\n",
        "#visualize\n",
        "df['predicted_label'].value_counts().plot(kind='bar')\n",
        "plt.xlabel('Sentiment Distribution')\n",
        "plt.ylabel('Frequency')\n",
        "plt.title('BERT Sentiment Analysis')\n",
        "plt.show()"
      ]
    },
    {
      "cell_type": "code",
      "source": [
        "# Map sentiment labels to numeric values\n",
        "label_map = {0: 'extreme negative', 1: 'negative', 2: 'neutral', 3:'positive'}\n",
        "df['predicted_label'] = df['predicted_label'].map(label_map)\n"
      ],
      "metadata": {
        "id": "2-R_aFTvR1dS"
      },
      "id": "2-R_aFTvR1dS",
      "execution_count": null,
      "outputs": []
    },
    {
      "cell_type": "code",
      "source": [
        "print(df.columns)\n",
        "print(df.head())"
      ],
      "metadata": {
        "colab": {
          "base_uri": "https://localhost:8080/"
        },
        "id": "HqlCmUhfXnxw",
        "outputId": "688b6903-8b96-4766-96e4-86a21be3acf6"
      },
      "id": "HqlCmUhfXnxw",
      "execution_count": null,
      "outputs": [
        {
          "output_type": "stream",
          "name": "stdout",
          "text": [
            "Index(['comment_id', 'score', 'self_text', 'subreddit', 'created_time',\n",
            "       'post_id', 'author_name', 'controversiality', 'ups', 'downs',\n",
            "       'user_is_verified', 'user_account_created_time', 'user_awardee_karma',\n",
            "       'user_awarder_karma', 'user_link_karma', 'user_comment_karma',\n",
            "       'user_total_karma', 'post_score', 'post_self_text', 'post_title',\n",
            "       'post_upvote_ratio', 'post_thumbs_ups', 'post_total_awards_received',\n",
            "       'post_created_time', 'clean_text', 'predicted_label', 'month'],\n",
            "      dtype='object')\n",
            "  comment_id  score                                          self_text  \\\n",
            "0    kwcam5d     15  Pakistanis are dumb sometimes I swear, this is...   \n",
            "1    kppuklp      1  Well, sounds like you made up your mind regard...   \n",
            "2    lc3rfkg      1  Things that might be controversial one day are...   \n",
            "3    kdbvkf5      2                                        🪂🪂🪂     🔻🔻🔻   \n",
            "4    lpxymc7     13  Just to add to this. They don't know if those ...   \n",
            "\n",
            "         subreddit        created_time  post_id        author_name  \\\n",
            "0    AskMiddleEast 2024-03-24 14:16:00  1bmjuzh     Wanttodate1995   \n",
            "1  IsraelPalestine 2024-02-10 00:45:30  1amyajr  pinkytoesupremacy   \n",
            "2  IsraelPalestine 2024-07-07 22:10:06  1dxegor   CreativeRealmsMC   \n",
            "3    AskMiddleEast 2023-12-14 15:20:22  18hrqyb   Its_my_ghenetiks   \n",
            "4        worldnews 2024-10-02 07:29:47  1fua33m              Brewe   \n",
            "\n",
            "   controversiality  ups  downs  ...  post_score  \\\n",
            "0                 0   15      0  ...         112   \n",
            "1                 1    1      0  ...          73   \n",
            "2                 0    1      0  ...           3   \n",
            "3                 0    2      0  ...         223   \n",
            "4                 0   13      0  ...         291   \n",
            "\n",
            "                                      post_self_text  \\\n",
            "0  The girl was wearing a dress from a **Kuwaiti*...   \n",
            "1  Recently, the WSJ published [this op-ed](https...   \n",
            "2  now according to **todays** [haaretz report/te...   \n",
            "3                                                NaN   \n",
            "4                                                NaN   \n",
            "\n",
            "                                          post_title  post_upvote_ratio  \\\n",
            "0  A Pakistani girl was threatened with death and...               0.84   \n",
            "1                          Islamophobia is overblown               0.63   \n",
            "2  \"Not a single vehicle can return to Gaza\" new ...               0.51   \n",
            "3  Thoughts on Palestinians always refusing peace...               0.72   \n",
            "4  Danish police investigate two blasts near Isra...               0.93   \n",
            "\n",
            "   post_thumbs_ups  post_total_awards_received    post_created_time  \\\n",
            "0              112                           0  2024-03-24 12:42:59   \n",
            "1               73                           0  2024-02-09 20:50:30   \n",
            "2                3                           0  2024-07-07 11:33:58   \n",
            "3              223                           0  2023-12-13 21:30:45   \n",
            "4              291                           0  2024-10-02 06:51:50   \n",
            "\n",
            "                                          clean_text predicted_label    month  \n",
            "0  pakistanis are dumb sometimes i swear, this is...             NaN  2024-03  \n",
            "1  well, sounds like you made up your mind regard...             NaN  2024-02  \n",
            "2  things that might be controversial one day are...             NaN  2024-07  \n",
            "3                                        🪂🪂🪂     🔻🔻🔻             NaN  2023-12  \n",
            "4  just to add to this. they don't know if those ...             NaN  2024-10  \n",
            "\n",
            "[5 rows x 27 columns]\n"
          ]
        }
      ]
    },
    {
      "cell_type": "code",
      "source": [
        "import matplotlib.ticker as mticker\n",
        "\n",
        "#group by subreddit and calculate proportion of extreme sentiment\n",
        "subreddit_extremism = df.groupby('subreddit')['predicted_label'].value_counts(normalize=True).unstack().fillna(0)\n",
        "\n",
        "subreddit_extremism = subreddit_extremism.reset_index()\n",
        "plt.figure(figsize=(10, 6))\n",
        "subreddit_extremism_melted = subreddit_extremism.melt(id_vars='subreddit', var_name='Sentiment', value_name='Proportion')\n",
        "custom_colors = ['#A92222', '#EC1414', '#B2B2B2', '#0000']  # Replace with your desired colors\n",
        "\n",
        "sns.barplot(\n",
        "    data=subreddit_extremism_melted,\n",
        "    x='subreddit',\n",
        "    y='Proportion',\n",
        "    hue='Sentiment',\n",
        "    palette=custom_colors\n",
        ")\n",
        "\n",
        "plt.gca().yaxis.set_major_formatter(mticker.FuncFormatter(lambda y, _: f'{y * 100:.0f}%'))\n",
        "\n",
        "plt.title('Proportion of Sentiments by Subreddit')\n",
        "plt.xlabel('Subreddit')\n",
        "plt.ylabel('Proportion')\n",
        "plt.xticks(rotation=45)\n",
        "plt.legend(title='Sentiment')\n",
        "plt.tight_layout()\n",
        "plt.show()\n"
      ],
      "metadata": {
        "colab": {
          "base_uri": "https://localhost:8080/",
          "height": 608
        },
        "id": "8haoqCUaUDPC",
        "outputId": "776c0690-63ef-4ab0-fa25-9f1b1ee398c7"
      },
      "id": "8haoqCUaUDPC",
      "execution_count": null,
      "outputs": [
        {
          "output_type": "display_data",
          "data": {
            "text/plain": [
              "<Figure size 1000x600 with 1 Axes>"
            ],
            "image/png": "[encoded data removed]"
          },
          "metadata": {}
        }
      ]
    },
    {
      "cell_type": "code",
      "source": [
        "import matplotlib.pyplot as plt\n",
        "import seaborn as sns\n",
        "\n",
        "palette = sns.color_palette(\"Set2\", n_colors=df['predicted_label'].nunique())\n",
        "\n",
        "plt.figure(figsize=(12, 6))\n",
        "sns.boxplot(data=df, x='subreddit', y='score', hue='predicted_label', palette=palette)\n",
        "\n",
        "plt.yscale('log')\n",
        "\n",
        "plt.title('Sentiment Score Distribution by Subreddit', fontsize=16)\n",
        "plt.xlabel('Subreddit', fontsize=12)\n",
        "plt.ylabel('Score (Log Scale)', fontsize=12)\n",
        "plt.xticks(rotation=45)\n",
        "plt.legend(title='Sentiment', loc='upper left')\n",
        "\n",
        "plt.tight_layout()\n",
        "\n",
        "plt.show()\n"
      ],
      "metadata": {
        "colab": {
          "base_uri": "https://localhost:8080/",
          "height": 608
        },
        "id": "auOWDr8nW1dU",
        "outputId": "d000c58c-7984-4643-8390-426622ef31ac"
      },
      "id": "auOWDr8nW1dU",
      "execution_count": null,
      "outputs": [
        {
          "output_type": "display_data",
          "data": {
            "text/plain": [
              "<Figure size 1200x600 with 1 Axes>"
            ],
            "image/png": "[encoded data removed]"
          },
          "metadata": {}
        }
      ]
    },
    {
      "cell_type": "code",
      "source": [
        "import pandas as pd\n",
        "import matplotlib.pyplot as plt\n",
        "import seaborn as sns\n",
        "\n",
        "df['created_time'] = pd.to_datetime(df['created_time'])\n",
        "df['month'] = df['created_time'].dt.to_period('M').astype(str)\n",
        "\n",
        "sentiment_counts = df.groupby(['month', 'subreddit', 'predicted_label']).size().unstack(fill_value=0)\n",
        "\n",
        "sentiment_proportions = sentiment_counts.div(sentiment_counts.sum(axis=1), axis=0)\n",
        "\n",
        "sentiment_proportions = sentiment_proportions.reset_index()\n",
        "\n",
        "df_melted = sentiment_proportions.melt(id_vars=['month', 'subreddit'],\n",
        "                                       value_vars=['extreme negative', 'negative', 'neutral', 'positive'],\n",
        "                                       var_name='Sentiment',\n",
        "                                       value_name='Proportion')\n",
        "\n",
        "plt.figure(figsize=(12, 6))\n",
        "\n",
        "custom_colors = {\n",
        "    'extreme negative': '#A92222',\n",
        "    'negative': '#EC1414',\n",
        "    'neutral': '#B2B2B2',\n",
        "    'positive': '#020405'\n",
        "}\n",
        "\n",
        "for sentiment, color in custom_colors.items():\n",
        "    linewidth = 2.5 if sentiment in ['extreme negative', 'negative'] else 1.5\n",
        "    sns.lineplot(\n",
        "        data=df_melted[df_melted['Sentiment'] == sentiment],\n",
        "        x='month',\n",
        "        y='Proportion',\n",
        "        label=sentiment,\n",
        "        color=color,\n",
        "        linewidth=linewidth,\n",
        "        marker='o',\n",
        "        ci=None\n",
        "    )\n",
        "\n",
        "plt.gca().yaxis.set_major_formatter(mticker.FuncFormatter(lambda y, _: f'{y * 100:.0f}%'))\n",
        "\n",
        "plt.title('Sentiment Over Time', fontsize=16)\n",
        "plt.xlabel('Month', fontsize=12)\n",
        "plt.ylabel('Proportion of Sentiment', fontsize=12)\n",
        "plt.xticks(rotation=45)\n",
        "plt.legend(title='Sentiment', loc='upper left')\n",
        "plt.ylim(0, 0.5)\n",
        "plt.show()\n"
      ],
      "metadata": {
        "colab": {
          "base_uri": "https://localhost:8080/",
          "height": 954
        },
        "id": "1emELruNhZZQ",
        "outputId": "5b911183-40bd-4d96-f9c9-3afb8c9447fa"
      },
      "id": "1emELruNhZZQ",
      "execution_count": null,
      "outputs": [
        {
          "output_type": "stream",
          "name": "stderr",
          "text": [
            "<ipython-input-23-8301897ea854>:40: FutureWarning: \n",
            "\n",
            "The `ci` parameter is deprecated. Use `errorbar=None` for the same effect.\n",
            "\n",
            "  sns.lineplot(\n",
            "<ipython-input-23-8301897ea854>:40: FutureWarning: \n",
            "\n",
            "The `ci` parameter is deprecated. Use `errorbar=None` for the same effect.\n",
            "\n",
            "  sns.lineplot(\n",
            "<ipython-input-23-8301897ea854>:40: FutureWarning: \n",
            "\n",
            "The `ci` parameter is deprecated. Use `errorbar=None` for the same effect.\n",
            "\n",
            "  sns.lineplot(\n",
            "<ipython-input-23-8301897ea854>:40: FutureWarning: \n",
            "\n",
            "The `ci` parameter is deprecated. Use `errorbar=None` for the same effect.\n",
            "\n",
            "  sns.lineplot(\n"
          ]
        },
        {
          "output_type": "display_data",
          "data": {
            "text/plain": [
              "<Figure size 1200x600 with 1 Axes>"
            ],
            "image/png": "[encoded data removed]"
          },
          "metadata": {}
        }
      ]
    },
    {
      "cell_type": "code",
      "source": [
        "import pandas as pd\n",
        "import matplotlib.pyplot as plt\n",
        "\n",
        "df['created_time'] = pd.to_datetime(df['created_time'])\n",
        "df['month'] = df['created_time'].dt.to_period('M').astype(str)\n",
        "sentiment_counts = df.groupby(['month', 'predicted_label']).size().unstack(fill_value=0)\n",
        "\n",
        "positive_count = sentiment_counts.get('positive', 0)\n",
        "negative_count = sentiment_counts.get('negative', 0) + sentiment_counts.get('extreme negative', 0)\n",
        "\n",
        "polarity = positive_count / negative_count\n",
        "polarity[negative_count == 0] = float('inf')\n",
        "\n",
        "plt.figure(figsize=(12, 6))\n",
        "plt.plot(polarity.index, polarity.values, marker='o', linestyle='-', color='b', label='Polarity')\n",
        "plt.title('Polarity Over Time (Month to Month)', fontsize=16)\n",
        "plt.xlabel('Month', fontsize=12)\n",
        "plt.ylabel('Polarity (Positive/Negative Ratio)', fontsize=12)\n",
        "plt.xticks(rotation=45)\n",
        "plt.legend()\n",
        "plt.ylim(0.0, 1)\n",
        "\n",
        "plt.tight_layout()\n",
        "plt.show()\n"
      ],
      "metadata": {
        "colab": {
          "base_uri": "https://localhost:8080/",
          "height": 608
        },
        "id": "nQjeCuMRkiDV",
        "outputId": "e26b7890-f849-461c-f5fa-6ace8d39f7b0"
      },
      "id": "nQjeCuMRkiDV",
      "execution_count": null,
      "outputs": [
        {
          "output_type": "display_data",
          "data": {
            "text/plain": [
              "<Figure size 1200x600 with 1 Axes>"
            ],
            "image/png": "[encoded data removed]"
          },
          "metadata": {}
        }
      ]
    },
    {
      "cell_type": "code",
      "source": [
        "df['created_time'] = pd.to_datetime(df['created_time'])\n",
        "df['month'] = df['created_time'].dt.to_period('M').astype(str)\n",
        "\n",
        "df_controversial = df[df['controversiality'] == 1]\n",
        "\n",
        "df_non_controversial = df[df['controversiality'] == 0]\n",
        "\n",
        "sentiment_controversial = df_controversial.groupby(['month', 'predicted_label']).size().unstack(fill_value=0)\n",
        "sentiment_non_controversial = df_non_controversial.groupby(['month', 'predicted_label']).size().unstack(fill_value=0)\n",
        "\n",
        "positive_controversial = sentiment_controversial.get('positive', 0)\n",
        "negative_controversial = sentiment_controversial.get('negative', 0) + sentiment_controversial.get('extreme negative', 0)\n",
        "polarity_controversial = positive_controversial / negative_controversial\n",
        "polarity_controversial[negative_controversial == 0] = float('inf')\n",
        "\n",
        "positive_non_controversial = sentiment_non_controversial.get('positive', 0)\n",
        "negative_non_controversial = sentiment_non_controversial.get('negative', 0) + sentiment_non_controversial.get('extreme negative', 0)\n",
        "polarity_non_controversial = positive_non_controversial / negative_non_controversial\n",
        "polarity_non_controversial[negative_non_controversial == 0] = float('inf')\n",
        "\n",
        "plt.figure(figsize=(12, 6))\n",
        "\n",
        "plt.plot(polarity_controversial.index, polarity_controversial.values, marker='o', linestyle='-', color='red', label='Controversial (1)')\n",
        "\n",
        "plt.plot(polarity_non_controversial.index, polarity_non_controversial.values, marker='o', linestyle='-', color='blue', label='Non-Controversial (0)')\n",
        "\n",
        "plt.title('Polarity Over Time: Controversial vs Non-Controversial Posts', fontsize=16)\n",
        "plt.xlabel('Month', fontsize=12)\n",
        "plt.ylabel('Polarity (Positive/Negative Ratio)', fontsize=12)\n",
        "plt.xticks(rotation=45)\n",
        "plt.legend()\n",
        "plt.ylim(0.0, 1)\n",
        "\n",
        "plt.tight_layout()\n",
        "plt.show()"
      ],
      "metadata": {
        "id": "0lH5VJgKODOm"
      },
      "id": "0lH5VJgKODOm",
      "execution_count": null,
      "outputs": []
    },
    {
      "cell_type": "code",
      "source": [
        "import pandas as pd\n",
        "import matplotlib.pyplot as plt\n",
        "import seaborn as sns\n",
        "\n",
        "extreme_negative_data = df[df['predicted_label'] == 'extreme negative']\n",
        "\n",
        "total_sentiments = df.groupby(['month', 'subreddit']).size()\n",
        "\n",
        "extreme_negative_counts = extreme_negative_data.groupby(['month', 'subreddit']).size()\n",
        "\n",
        "extreme_negative_proportions = (extreme_negative_counts / total_sentiments).fillna(0) * 100\n",
        "\n",
        "extreme_negative_proportions = extreme_negative_proportions.reset_index()\n",
        "extreme_negative_proportions.columns = ['Month', 'Subreddit', 'Proportion']\n",
        "\n",
        "plt.figure(figsize=(12, 6))\n",
        "sns.lineplot(\n",
        "    data=extreme_negative_proportions,\n",
        "    x='Month',\n",
        "    y='Proportion',\n",
        "    hue='Subreddit',\n",
        "    marker='o'\n",
        ")\n",
        "\n",
        "plt.gca().yaxis.set_major_formatter(mticker.FuncFormatter(lambda y, _: f'{y}%'))\n",
        "\n",
        "plt.title('Percentage of Extreme Negative Sentiment Over Time by Subreddit', fontsize=16)\n",
        "plt.xlabel('Month', fontsize=12)\n",
        "plt.ylabel('Percentage of Extreme Negative Sentiment', fontsize=12)\n",
        "plt.xticks(rotation=45)\n",
        "plt.legend(title='Subreddit', loc='upper right')\n",
        "plt.tight_layout()\n",
        "plt.show()\n"
      ],
      "metadata": {
        "colab": {
          "base_uri": "https://localhost:8080/",
          "height": 608
        },
        "id": "sZ_BkWeNQRvw",
        "outputId": "87fadfb8-5e44-48c4-8be5-51deb3c77c44"
      },
      "id": "sZ_BkWeNQRvw",
      "execution_count": null,
      "outputs": [
        {
          "output_type": "display_data",
          "data": {
            "text/plain": [
              "<Figure size 1200x600 with 1 Axes>"
            ],
            "image/png": "[encoded data removed]"
          },
          "metadata": {}
        }
      ]
    },
    {
      "cell_type": "markdown",
      "source": [
        "For my hypothesis:"
      ],
      "metadata": {
        "id": "20xnOuv3jlh0"
      },
      "id": "20xnOuv3jlh0"
    },
    {
      "cell_type": "code",
      "source": [
        "df['extreme_negative'] = df['predicted_label'] == 'extreme negative'\n",
        "\n",
        "polarization_by_subreddit = df.groupby(['month', 'subreddit'])['extreme_negative'].mean().reset_index()\n",
        "\n",
        "print(polarization_by_subreddit.head())\n",
        "\n"
      ],
      "metadata": {
        "colab": {
          "base_uri": "https://localhost:8080/"
        },
        "id": "F_LDDU9PW37L",
        "outputId": "e0157d38-54da-403e-ec4c-b8b770e723cc"
      },
      "id": "F_LDDU9PW37L",
      "execution_count": null,
      "outputs": [
        {
          "output_type": "stream",
          "name": "stdout",
          "text": [
            "     month              subreddit  extreme_negative\n",
            "0  2023-10  IsrealPalestineWar_23          0.344353\n",
            "1  2023-11          AskMiddleEast          0.251372\n",
            "2  2023-11        IsraelPalestine          0.340114\n",
            "3  2023-11  IsrealPalestineWar_23          0.348780\n",
            "4  2023-11              Palestine          0.238997\n"
          ]
        }
      ]
    },
    {
      "cell_type": "code",
      "source": [
        "from scipy.stats import f_oneway\n",
        "\n",
        "subreddit_groups = [group['extreme_negative'].values for name, group in polarization_by_subreddit.groupby('subreddit')]\n",
        "anova_result = f_oneway(*subreddit_groups)\n",
        "\n",
        "print(f'ANOVA F-statistic: {anova_result.statistic}, p-value: {anova_result.pvalue}')\n"
      ],
      "metadata": {
        "colab": {
          "base_uri": "https://localhost:8080/"
        },
        "id": "7zsMbzrCjtoS",
        "outputId": "055e85a6-5308-46f2-b065-1ac0bbd2f847"
      },
      "id": "7zsMbzrCjtoS",
      "execution_count": null,
      "outputs": [
        {
          "output_type": "stream",
          "name": "stdout",
          "text": [
            "ANOVA F-statistic: 54.7590015760508, p-value: 1.0320321151736122e-18\n"
          ]
        }
      ]
    },
    {
      "cell_type": "code",
      "source": [
        "import statsmodels.api as sm\n",
        "import pandas as pd\n",
        "\n",
        "df['month_numeric'] = pd.to_datetime(df['month']).astype(int) / 10**9\n",
        "\n",
        "X = sm.add_constant(df['month_numeric'])\n",
        "y = df['extreme_negative']\n",
        "\n",
        "model = sm.OLS(y, X).fit()\n",
        "\n",
        "print(model.summary())\n"
      ],
      "metadata": {
        "colab": {
          "base_uri": "https://localhost:8080/"
        },
        "id": "krcKxr3sj6oh",
        "outputId": "ed87bc77-d1c9-4b07-ee16-c448c330d99f"
      },
      "id": "krcKxr3sj6oh",
      "execution_count": null,
      "outputs": [
        {
          "output_type": "stream",
          "name": "stdout",
          "text": [
            "                            OLS Regression Results                            \n",
            "==============================================================================\n",
            "Dep. Variable:       extreme_negative   R-squared:                       0.000\n",
            "Model:                            OLS   Adj. R-squared:                  0.000\n",
            "Method:                 Least Squares   F-statistic:                     82.56\n",
            "Date:                Mon, 02 Dec 2024   Prob (F-statistic):           1.03e-19\n",
            "Time:                        18:09:02   Log-Likelihood:            -1.5962e+05\n",
            "No. Observations:              250000   AIC:                         3.193e+05\n",
            "Df Residuals:                  249998   BIC:                         3.193e+05\n",
            "Df Model:                           1                                         \n",
            "Covariance Type:            nonrobust                                         \n",
            "=================================================================================\n",
            "                    coef    std err          t      P>|t|      [0.025      0.975]\n",
            "---------------------------------------------------------------------------------\n",
            "const             1.9559      0.182     10.732      0.000       1.599       2.313\n",
            "month_numeric -9.684e-10   1.07e-10     -9.086      0.000   -1.18e-09    -7.6e-10\n",
            "==============================================================================\n",
            "Omnibus:                   353496.830   Durbin-Watson:                   2.004\n",
            "Prob(Omnibus):                  0.000   Jarque-Bera (JB):            47654.155\n",
            "Skew:                           0.872   Prob(JB):                         0.00\n",
            "Kurtosis:                       1.762   Cond. No.                     3.40e+11\n",
            "==============================================================================\n",
            "\n",
            "Notes:\n",
            "[1] Standard Errors assume that the covariance matrix of the errors is correctly specified.\n",
            "[2] The condition number is large, 3.4e+11. This might indicate that there are\n",
            "strong multicollinearity or other numerical problems.\n"
          ]
        }
      ]
    },
    {
      "cell_type": "code",
      "source": [
        "df['extreme_negative_numeric'] = df['extreme_negative'].astype(int)\n",
        "\n",
        "model = ols('extreme_negative_numeric ~ C(subreddit)', data=df).fit()\n",
        "\n",
        "anova_result = sm.stats.anova_lm(model, typ=2)\n",
        "print(anova_result)\n",
        "\n",
        "tukey_result = pairwise_tukeyhsd(df['extreme_negative_numeric'], df['subreddit'], alpha=0.05)\n",
        "print(tukey_result)\n",
        "\n"
      ],
      "metadata": {
        "colab": {
          "base_uri": "https://localhost:8080/"
        },
        "id": "Hv76sehckj2P",
        "outputId": "1ff279e3-f243-488a-b555-649d38f2ab8e"
      },
      "id": "Hv76sehckj2P",
      "execution_count": null,
      "outputs": [
        {
          "output_type": "stream",
          "name": "stdout",
          "text": [
            "                    sum_sq        df           F  PR(>F)\n",
            "C(subreddit)    548.302540       4.0  659.556079     0.0\n",
            "Residual      51956.496884  249995.0         NaN     NaN\n",
            "               Multiple Comparison of Means - Tukey HSD, FWER=0.05                \n",
            "==================================================================================\n",
            "        group1                group2        meandiff p-adj   lower   upper  reject\n",
            "----------------------------------------------------------------------------------\n",
            "        AskMiddleEast       IsraelPalestine   0.1059    0.0  0.0972  0.1145   True\n",
            "        AskMiddleEast IsrealPalestineWar_23   0.1238    0.0  0.1019  0.1457   True\n",
            "        AskMiddleEast             Palestine  -0.0028 0.9458  -0.013  0.0074  False\n",
            "        AskMiddleEast             worldnews   0.0275    0.0  0.0186  0.0364   True\n",
            "      IsraelPalestine IsrealPalestineWar_23   0.0179 0.1305 -0.0029  0.0388  False\n",
            "      IsraelPalestine             Palestine  -0.1087    0.0 -0.1163  -0.101   True\n",
            "      IsraelPalestine             worldnews  -0.0784    0.0 -0.0842 -0.0725   True\n",
            "IsrealPalestineWar_23             Palestine  -0.1266    0.0 -0.1481 -0.1051   True\n",
            "IsrealPalestineWar_23             worldnews  -0.0963    0.0 -0.1173 -0.0753   True\n",
            "            Palestine             worldnews   0.0303    0.0  0.0223  0.0382   True\n",
            "----------------------------------------------------------------------------------\n"
          ]
        }
      ]
    },
    {
      "cell_type": "code",
      "source": [
        "print(df.columns)"
      ],
      "metadata": {
        "colab": {
          "base_uri": "https://localhost:8080/"
        },
        "id": "_w6tSTCFXnzD",
        "outputId": "82b85559-81cb-4887-f197-94e089af605d"
      },
      "id": "_w6tSTCFXnzD",
      "execution_count": null,
      "outputs": [
        {
          "output_type": "stream",
          "name": "stdout",
          "text": [
            "Index(['comment_id', 'score', 'self_text', 'subreddit', 'created_time',\n",
            "       'post_id', 'author_name', 'controversiality', 'ups', 'downs',\n",
            "       'user_is_verified', 'user_account_created_time', 'user_awardee_karma',\n",
            "       'user_awarder_karma', 'user_link_karma', 'user_comment_karma',\n",
            "       'user_total_karma', 'post_score', 'post_self_text', 'post_title',\n",
            "       'post_upvote_ratio', 'post_thumbs_ups', 'post_total_awards_received',\n",
            "       'post_created_time', 'clean_text', 'predicted_label', 'month'],\n",
            "      dtype='object')\n"
          ]
        }
      ]
    },
    {
      "cell_type": "code",
      "source": [
        "from scipy import stats\n",
        "\n",
        "oct24 = sentiment_proportions[sentiment_proportions['month'] == '2024-09']['extreme negative'] + sentiment_proportions[sentiment_proportions['month'] == '2024-09']['negative']\n",
        "oct23 = sentiment_proportions[sentiment_proportions['month'] == '2023-11']['extreme negative'] + sentiment_proportions[sentiment_proportions['month'] == '2023-11']['negative']\n",
        "\n",
        "\n",
        "t_stat, p_value = stats.ttest_ind(oct24, oct23, equal_var=False)\n",
        "\n",
        "print(f\"T-statistic: {t_stat}\")\n",
        "print(f\"P-value: {p_value}\")\n"
      ],
      "metadata": {
        "id": "z0Dfx3EtQfN6",
        "colab": {
          "base_uri": "https://localhost:8080/"
        },
        "outputId": "0fd561f5-f59f-4218-b4e4-5e91b491d691"
      },
      "id": "z0Dfx3EtQfN6",
      "execution_count": null,
      "outputs": [
        {
          "output_type": "stream",
          "name": "stdout",
          "text": [
            "T-statistic: 0.14246391520187976\n",
            "P-value: 0.8908397382270445\n"
          ]
        }
      ]
    },
    {
      "cell_type": "code",
      "source": [
        "from scipy import stats\n",
        "\n",
        "before_oct24 = sentiment_proportions[sentiment_proportions['month'] == '2024-09']['positive']\n",
        "after_oct23 = sentiment_proportions[sentiment_proportions['month'] =='2023-11']['positive']\n",
        "\n",
        "t_stat, p_value = stats.ttest_ind(before_oct24, after_oct23)\n",
        "\n",
        "print(f\"T-statistic: {t_stat}\")\n",
        "print(f\"P-value: {p_value}\")"
      ],
      "metadata": {
        "colab": {
          "base_uri": "https://localhost:8080/"
        },
        "id": "c0dhMc6OULij",
        "outputId": "6fcb8999-c429-494c-b2c0-7cf5a4b62c3b"
      },
      "id": "c0dhMc6OULij",
      "execution_count": null,
      "outputs": [
        {
          "output_type": "stream",
          "name": "stdout",
          "text": [
            "T-statistic: -0.5614766002806157\n",
            "P-value: 0.5898507691982959\n"
          ]
        }
      ]
    },
    {
      "cell_type": "code",
      "source": [
        "import matplotlib.pyplot as plt\n",
        "\n",
        "df_filtered = df[df['controversiality'] == 1].copy()\n",
        "\n",
        "df_filtered['created_time'] = pd.to_datetime(df_filtered['created_time'])\n",
        "\n",
        "df_filtered['month'] = df_filtered['created_time'].dt.to_period('M').astype(str)\n",
        "\n",
        "monthly_controversial_count = df_filtered.groupby('month').size()\n",
        "\n",
        "plt.figure(figsize=(12, 6))\n",
        "monthly_controversial_count.plot(kind='line', marker='o', color='red')\n",
        "plt.title('Count of Controversial Posts by Month', fontsize=16)\n",
        "plt.xlabel('Month', fontsize=12)\n",
        "plt.ylabel('Count of Controversial Posts', fontsize=12)\n",
        "plt.xticks(rotation=45)\n",
        "plt.tight_layout()\n",
        "plt.show()\n",
        "\n"
      ],
      "metadata": {
        "colab": {
          "base_uri": "https://localhost:8080/",
          "height": 608
        },
        "id": "ROWellvrmDks",
        "outputId": "26c9b5cb-9462-4f1e-ef4d-ffd6af0bd046"
      },
      "id": "ROWellvrmDks",
      "execution_count": null,
      "outputs": [
        {
          "output_type": "display_data",
          "data": {
            "text/plain": [
              "<Figure size 1200x600 with 1 Axes>"
            ],
            "image/png": "[encoded data removed]"
          },
          "metadata": {}
        }
      ]
    },
    {
      "cell_type": "code",
      "source": [
        "from scipy import stats\n",
        "\n",
        "df['created_time'] = pd.to_datetime(df['created_time'])\n",
        "\n",
        "before_oct = df[df['created_time'] < '2023-12-01']\n",
        "after_oct = df[df['created_time'] >= '2024-12-01']\n",
        "\n",
        "t_stat, p_value = stats.ttest_ind(before_oct['controversiality'], after_oct['controversiality'], equal_var=False)\n",
        "\n",
        "print(before_oct)\n",
        "print(f\"T-statistic: {t_stat}\")\n",
        "print(f\"P-value: {p_value}\")\n"
      ],
      "metadata": {
        "colab": {
          "base_uri": "https://localhost:8080/"
        },
        "id": "SrdBJEj1_FAq",
        "outputId": "fe00c230-d802-4e6c-da55-90c67aff0166"
      },
      "id": "SrdBJEj1_FAq",
      "execution_count": null,
      "outputs": [
        {
          "output_type": "stream",
          "name": "stdout",
          "text": [
            "       comment_id  score  \\\n",
            "18        k92ggsa      7   \n",
            "47        kb1xdml      7   \n",
            "68        ka7btr6      1   \n",
            "81        k84mr10     -3   \n",
            "86        k9t6130      1   \n",
            "...           ...    ...   \n",
            "249932    k9oxgoa      3   \n",
            "249944    k9dl73e     17   \n",
            "249957    k9g2tcf      1   \n",
            "249961    k5khclu      1   \n",
            "249976    kbfap1o      2   \n",
            "\n",
            "                                                                                                                                                                                                                                                                                                                                                                                                                                                                                                                                                                                                                                                                                                                                                                                                                                                                                                                                                                                                                                                                                 self_text  \\\n",
            "18                                                                                                                                                                                                                                                                                                                                                                                                                                                                                                                                                                                                                                                                                                                                                                                                                                                                                                                                                                                                  Read the article. They’re mourning United Nation members killed from helping everyone.   \n",
            "47                                                                                                                                                                                                                                                                                                                                                                                                                                                                                                                                                                                                                                                                                                                                                                                                                                                  I don’t know anything about the muslim religion, but I have watched many street interviews with the Muslims and Christians who live in Palestine and they seem like lovely people. As an American I’d love to have them as my neighbor   \n",
            "68                                                                                                                                                                                                                                                                                                                                                                                                                                                                                                                                                                                                                                                                                                                                                                                                                                                       Maybe they should have used the thousands of greenhouses the Israelis left them when they pulled out in 2005 to, you know, grow food.\\n\\nOops.  Never mind.  They looted and destroyed those immediately after Israel pulled out.   \n",
            "81                                                                                                                                                                                                                                                                                                                                                                                                                                                                                                                                                                                                                                                                                                                                                                                                                                                                                                                                                   Bibi in 2019: https://m.jpost.com/Arab-Israeli-Conflict/Netanyahu-Money-to-Hamas-part-of-strategy-to-keep-Palestinians-divided-583082   \n",
            "86                                                                                                                                                                                                                                                                                                                                                                                                                                                                                                                                                                                                                                                                                                                                                                                                                                                                                                                                                                                           Gelecekse gorecekeleri var orosopu cocugu gelin some one translate that for my fellow friends   \n",
            "...                                                                                                                                                                                                                                                                                                                                                                                                                                                                                                                                                                                                                                                                                                                                                                                                                                                                                                                                                                                                                                                                                    ...   \n",
            "249932                                                                                                                                                                                                                                                                                                                                                                                                                                                                                                                                                                                                                                                                                                                                                                                                                                                                                                                                                                                                 If you criticize, there is a preumption you have a better or different way in mind.   \n",
            "249944                                                                                                                                                                                                                                                                                                                                                                                                                                                                                                                                                                                                                                                                                                                                                                                                                                                                                                                                         It means ending a whole lot of coal and tar mining.  And that drop is far larger than the mining needed for materials to support renewables   \n",
            "249957                                                                                                                                                                                                                                                                                                                                                                                                                                                                                                                                                                                                                                                                                                      Maybe because this video was published just yesterday so people r excited. Because it's really helpful.I wouldn't post this if i saw that it was already here. I just found a helpful video so i recommended it. I saw that it's better than just coming here and throwing sources all over ur faces all of a sudden. u didn't have to come at me like that but it's okay nvm.   \n",
            "249961                                                                                                                                                                                                                                                                                                                                                                                                                                                                                                                                                                                                                                                                                                                                                                                                                                                                                                            Believe me I know. It's no coincidence that Putin despises zelensky for being a Jew as well. The amount of at Semitic behaviour from uneducated people online is insane.   \n",
            "249976  This is why there isn’t a one state solution to prevent apartheid \\n\\nThe entire purpose of Israel is a Jewish governed democratic state. (The right to self governance + the right to not be genocided)\\n\\nBy your argument if Americans moved onto an Indian reservation they would be the majority therefore Native American reservations are apartheid territories \\n\\nInstead there are 2 territories. Palestine is apartheid and Jews are not equal. In Israel Jews Arabs and others all have the same rights. \\nIndigenous Jews have a right to return as an exception due to being chased out of multiple countries \\n\\n\\nI’m not arguing that the West Bank situation is acceptable or right or how it should be just pointing to the hole in your argument that Israel is apartheid. \\n\\nIsrael is NOT apartheid. A 1 state solution WOULD be apartheid (which is a major setback in peace talks as many Palestinians want a 1 state solution in order to move back to cities with family history. This is why it’s considered a complicated issue despite being simple)   \n",
            "\n",
            "                    subreddit        created_time  post_id  \\\n",
            "18                  worldnews 2023-11-13 14:07:11  17ub4j3   \n",
            "47                  Palestine 2023-11-28 00:58:03  185diib   \n",
            "68            IsraelPalestine 2023-11-21 20:01:08  180k5bh   \n",
            "81            IsraelPalestine 2023-11-06 21:49:32  17p9br3   \n",
            "86              AskMiddleEast 2023-11-18 21:13:10  17y8yvm   \n",
            "...                       ...                 ...      ...   \n",
            "249932        IsraelPalestine 2023-11-17 22:05:13  17x8c1v   \n",
            "249944              worldnews 2023-11-15 16:47:01  17vu3rh   \n",
            "249957        IsraelPalestine 2023-11-16 02:11:36  17wao84   \n",
            "249961  IsrealPalestineWar_23 2023-10-19 16:58:38  17bhq3f   \n",
            "249976        IsraelPalestine 2023-11-30 16:57:38  1879ol1   \n",
            "\n",
            "                 author_name  controversiality  ups  downs  ...  post_score  \\\n",
            "18                Ragna_Rose                 1    7      0  ...           8   \n",
            "47                   Gradeph                 0    7      0  ...        2444   \n",
            "68                keypuncher                 0    1      0  ...          76   \n",
            "81                 nashashmi                 0   -3      0  ...          58   \n",
            "86      Over_Neighborhood_19                 0    1      0  ...         354   \n",
            "...                      ...               ...  ...    ...  ...         ...   \n",
            "249932       BillyJoeMac9095                 0    3      0  ...          25   \n",
            "249944              silence7                 0   17      0  ...         789   \n",
            "249957  Tricky_Elderberry171                 0    1      0  ...           3   \n",
            "249961               IbuyPie                 0    1      0  ...           5   \n",
            "249976         techmaster101                 0    2      0  ...          21   \n",
            "\n",
            "                                                                                                                                                                                                                                                                                                                                                                                                                                                                                                                                                                                                                                                                                                                                                                                                                                                                                                                                                                                                                                                                                                                                                                                                                                                                                                                                                                                                                                                                                                                                                                                                                                                                                                                                                                                                                                                               post_self_text  \\\n",
            "18                                                                                                                                                                                                                                                                                                                                                                                                                                                                                                                                                                                                                                                                                                                                                                                                                                                                                                                                                                                                                                                                                                                                                                                                                                                                                                                                                                                                                                                                                                                                                                                                                                                                                                                                                                                                                                                                        NaN   \n",
            "47      I taught in Palestine for 7 months from 2020-2021 and it has happened many times that I’ve had to go to bat for Palestinian people but the blatant lies that we are being told about its people and its culture recently is insane to me. \\n\\nThe idea that Palestinian people are terrorists, that women don’t have rights there, that they would murder you if you were gay. This propoganda by Israel that’s repeated by J*e Biden makes my blood boil. They are all LIES. \\n\\nPalestinian people are to this day, the friendliest people I’ve ever met. Living there made me take a long hard look at my life and it was a huge factor in my not wanting to return to Europe because people were just so mean and miserable. \\n\\nI was invited into peoples homes after exchanging a few words with them. My belongings and groceries were returned to me after being chased down for it. People always offered me rides when they saw me walking in the hot sun. Feasts were prepared upon arrival into entering people’s homes. A group of ladies invited my coworker and I into their hamam party where they were just dancing and singing in a circle. \\n\\nEven when the situation with Israel was spoken about, not one antisemitic word. My students didn’t say anything hateful, they always expressed, “the Israelis want to kills us.” \\n\\nSeeing people curate the narrative for a people who is constantly denied autonomy is just making my blood boil. The messed up thing is that it’s so difficult to go there. My visa had to be bribed as it is Israel who approved it, but it is very hard to go there legally. They make it almost impossible for a Palestinian to leave as well. \\n\\nNever stop talking about this. These people deserve their freedom and autonomy. We will not be shamed into speaking up for what’s right. Free Palestine!   \n",
            "68                                                                                                                                                                                                                                                                                                                                                                                                                                                                                                                                                                                                                                                                                                                                                                                                                                                                                                                                                                                                             My previous post was removed for some reason, which I still don't understand so I'll try again.\\n\\nVarious sources have reported that 12 people just now have died from starvation and dehydration in the Gaza strip.\\n\\nWe are waiting for major news outlets to report on these very recent evens but what we can confirn are statements from the WFP about the \"catastrophic situation in Gaza\" regarding access to humanitarian aid.\\n\\nI encourage everybody in this sub to expose themselves to both Pro-Palestinian and Pro-Israeli content that is being released by people in Gaza at this very moment.\\n\\nOn Instagram and other social media you can find: ByPlestia, Wizard_Bisan1, Motaz_Azaiza and many more journalists who report on the matter.\\n\\nThe IDF also posts on twitter / tiktok from the perspective of the soldiers on the grounds   \n",
            "81                                                                                                                                                                                                                                                                                                                                                                                                                                                                                                                                                                                                                                                                                        I’ve been following the free press and peace comms series of speaking with Gazans throughout the war and since the beginning of the year. Today, the creator of the series was [interviewed by Fox News](https://www.instagram.com/reel/CzUDbmCN_u0/?igshid=MzRlODBiNWFlZA==) (I know, gross) but what he said was interesting. He said the consensus from Gaza is that the vast majority want Hamas gone, and that the protests are hurting the chances of this happening. They don’t support Israel, but they’re pragmatic and want the war to end with Hamas dethroned. \\n\\nSo, my question for you is - do you believe these voices from Gaza and if so, why continue your protests if they harm Gazans?\\n\\nEditing to [add the peacecomms page](https://instagram.com/peacecomms?igshid=MzMyNGUyNmU2YQ==) for the series being discussed. \\n\\nEdit 2: Not one pro-Palestinian wanted to engage in discussion over what these Gazans were saying, rather attacked and tried discrediting their words thus far. Pretty telling that the “pro-Palestinians” here only care about their own narrative, and not the actual people of Gaza. Thanks for making that clear, everyone.    \n",
            "86                                                                                                                                                                                                                                                                                                                                                                                                                                                                                                                                                                                                                                                                                                                                                                                                                                                                                                                                                                                                                                                                                                                                                                                                                                                                                                                                                                                                                                                                                                                                                                                                                                                                                                                                                                                                                                                                        NaN   \n",
            "...                                                                                                                                                                                                                                                                                                                                                                                                                                                                                                                                                                                                                                                                                                                                                                                                                                                                                                                                                                                                                                                                                                                                                                                                                                                                                                                                                                                                                                                                                                                                                                                                                                                                                                                                                                                                                                                                       ...   \n",
            "249932                                                                                                                                                                                                                                                                                               So many people are calling for a cease fire and are saying Israel's response is disproportionate.\\n\\nLet's leave for a moment the discussion about Israel's very existence, Israel has a fourth generation growing up here, approximately 8 million people, four generations here in israel, like it or not, they're not going anywhere as they have no where to go to and for the three generations that were born here- there is no other option. Fact is, Israel exists and unless you plan go carry out a genocide of 8 million people, this isn't changing.\\n\\nHow should Israel have reacted to the October 7th massacres?\\n\\nWhen 9/11 happened, the US army flew halfway across the world and wrecked havoc, killed FAR more civilians than Israel ever did in Gaza.\\n\\nWhen ISIS begun threatening the western world, executing citizens from different western nations and attacking western allies in the middle east, the west formed a coalition and sent troops halfway across the world to fight ISIS, killing many civilians in the process. \\n\\n\\nHow should Israel react to an organization that raided and slaughtered, raped, burnt and mutilated around 1400 people, mainly civilians including babies and the elderly, kidnapped around 240 people, and publicly says they plan to do it again, and isn't located halfway across the world, but a 30 minutes drive away from the southern cities which they already massacred?\\n\\nWhy should Israel agree to a cease fire? Why should Israel do anything other than annihilate Hamas at all costs?   \n",
            "249944                                                                                                                                                                                                                                                                                                                                                                                                                                                                                                                                                                                                                                                                                                                                                                                                                                                                                                                                                                                                                                                                                                                                                                                                                                                                                                                                                                                                                                                                                                                                                                                                                                                                                                                                                                                                                                                                    NaN   \n",
            "249957                                                                                                                                                                                                                                                                                                                                                                                                                                                                                                                                                                                                                                                                                                                                                                                                                                                                                                                                                                                   A recommendation from a history researcher.\\nThis video made by a content creator called \"الدحيح\" which means \" the nerd\". He is a content creator making videos about historical, scientific and interesting topics. With actual facts snd evidence linked with trusted sources in the description. Completely unbiased. Just history. I'm not saying that this video is enough or will 100% convince u. But it is a great start point to learn about this conflict. Attached with trusted sources in description that will lead u perfectly among ur journey. The interesting fact about this episode that it was made using mostly an \" Israeli\" sources. Like ilan pappè for example the famous historian and political scientist. So if u r interested go ahead and enjoy. \\n( it's in arabic so use the English captions )\\n\\nhttps://youtu.be/f0oy-NicIgE?si=nQhZ0XpxFdjDP0YJ   \n",
            "249961                                                                                                                                                                                                                                                                                                                                                                                                                                                                                                                                                                                                                                                                                                                                                                                                                                                                                                                                                                                                                                                                                                                                                                                                                                                                                                                                                                                                                                                                                                                             I find it funny that the Philistines, Romans, Ottomans, Nazi Germany all tried to exterminate the Jews. Yet none remain. Yet the wannabe warriors Hamas think the same won't happen to them. It truly is God's will the Jews remain. They are in his protection clearly. This coming from a Buddhist. So I have no God perse. But they do.   \n",
            "249976                                                                                                                 [https://www.youtube.com/watch?v=SVvmEEeoQO0](https://www.youtube.com/watch?v=SVvmEEeoQO0)\\n\\nI genuinely cannot for the life of me understand these comments and what these people are saying. How can anyone not say Hamas is not a terrorist organization? I personally have a family hostage and family murdered on October 7th. This a major city council in the U.S. Who are the people in charge?  \\nThe people in the video make several absolutely bizarre claims, such as calling Hamas a terrorist organization is just propaganda and terrorism. There is always this absolutely stupid comparison between actual civil rights fighters and Hamas. I do not see why people, like the ones on this council, equate Hamas with the wife being beaten and finally standing up to revolt. The civilians and women raped have absolutely no play in the game, and putting this off as resistance is absurd. WHAT RESISTANCE. These are people who are in no way related to this oppression. Also people in this video parrot the claim that Israel killed their own civilians like its some ground breaking point. The civilian causalities caused by Israel are neither intentional and quite small in relation to the number of people Hamas killed. Again, there is no moral equivalency between what Israel did on Oct 7th, and what continues to do in Gaza, and Hamas's actions. I genuinely don't get the other view point here, and I am disappointed and incredibly upset by this immense moral degradation. The comments on the video are equally as bad. I am coming on here to see what everyone else thinks. Is there any claim to Hamas not being a terrorist organization? i personally do not see how that concept is possible.   \n",
            "\n",
            "                                                                                                                                                                                                         post_title  \\\n",
            "18                                                                                                                                        UN mourns record death toll in war with over 100 employees killed in Gaza   \n",
            "47                                                                                                                                      I am an American who lived in Palestine—our governments are gaslighting us.   \n",
            "68                                                                                                                      UN and WFP (World Food Programme) say that Palestinians are at immediate risk of starvation   \n",
            "81                                                                                                                                                                                  Gazans don’t want your protests   \n",
            "86                                                                                               Israeli Channel 14 host Shai Golden says, \"\"Do your 'Free Palestine,' do all your crying ... We will destroy you!\"   \n",
            "...                                                                                                                                                                                                             ...   \n",
            "249932                                                                                                                                                        Honest question for those who opposed Israel's action   \n",
            "249944  U.S. and China Agree to Displace Fossil Fuels by Ramping Up Renewables | The climate agreement between the two countries is seen as a bright spot as President Biden prepares to meet President Xi Jinping.   \n",
            "249957                                                                                                          If u r interested in learning the core about this conflict.this is a good start point\" link bellow\"   \n",
            "249961                                                                                                                                                                                                 Kinda funny.   \n",
            "249976                                                                                                                                                                                          Sick to my stomach.   \n",
            "\n",
            "        post_upvote_ratio  post_thumbs_ups  post_total_awards_received  \\\n",
            "18                   0.51                8                           0   \n",
            "47                   0.93             2444                           0   \n",
            "68                   0.79               76                           0   \n",
            "81                   0.77               58                           0   \n",
            "86                   0.95              354                           0   \n",
            "...                   ...              ...                         ...   \n",
            "249932               0.73               25                           0   \n",
            "249944               0.95              789                           0   \n",
            "249957               0.71                3                           0   \n",
            "249961               0.56                5                           0   \n",
            "249976               0.74               21                           0   \n",
            "\n",
            "          post_created_time  \\\n",
            "18      2023-11-13 13:54:29   \n",
            "47      2023-11-27 20:59:27   \n",
            "68      2023-11-21 15:53:28   \n",
            "81      2023-11-06 18:25:12   \n",
            "86      2023-11-18 15:34:20   \n",
            "...                     ...   \n",
            "249932  2023-11-17 05:52:58   \n",
            "249944  2023-11-15 13:53:31   \n",
            "249957  2023-11-16 01:50:30   \n",
            "249961  2023-10-19 12:15:00   \n",
            "249976  2023-11-30 04:24:41   \n",
            "\n",
            "                                                                                                                                                                                                                                                                                                                                                                                                                                                                                                                                                                                                                                                                                                                                                                                                                                                                                                                                                                                                                                                                                clean_text  \\\n",
            "18                                                                                                                                                                                                                                                                                                                                                                                                                                                                                                                                                                                                                                                                                                                                                                                                                                                                                                                                                                                                  read the article. they’re mourning united nation members killed from helping everyone.   \n",
            "47                                                                                                                                                                                                                                                                                                                                                                                                                                                                                                                                                                                                                                                                                                                                                                                                                                                  i don’t know anything about the muslim religion, but i have watched many street interviews with the muslims and christians who live in palestine and they seem like lovely people. as an american i’d love to have them as my neighbor   \n",
            "68                                                                                                                                                                                                                                                                                                                                                                                                                                                                                                                                                                                                                                                                                                                                                                                                                                                       maybe they should have used the thousands of greenhouses the israelis left them when they pulled out in 2005 to, you know, grow food.\\n\\noops.  never mind.  they looted and destroyed those immediately after israel pulled out.   \n",
            "81                                                                                                                                                                                                                                                                                                                                                                                                                                                                                                                                                                                                                                                                                                                                                                                                                                                                                                                                                   bibi in 2019: https://m.jpost.com/arab-israeli-conflict/netanyahu-money-to-hamas-part-of-strategy-to-keep-palestinians-divided-583082   \n",
            "86                                                                                                                                                                                                                                                                                                                                                                                                                                                                                                                                                                                                                                                                                                                                                                                                                                                                                                                                                                                           gelecekse gorecekeleri var orosopu cocugu gelin some one translate that for my fellow friends   \n",
            "...                                                                                                                                                                                                                                                                                                                                                                                                                                                                                                                                                                                                                                                                                                                                                                                                                                                                                                                                                                                                                                                                                    ...   \n",
            "249932                                                                                                                                                                                                                                                                                                                                                                                                                                                                                                                                                                                                                                                                                                                                                                                                                                                                                                                                                                                                 if you criticize, there is a preumption you have a better or different way in mind.   \n",
            "249944                                                                                                                                                                                                                                                                                                                                                                                                                                                                                                                                                                                                                                                                                                                                                                                                                                                                                                                                         it means ending a whole lot of coal and tar mining.  and that drop is far larger than the mining needed for materials to support renewables   \n",
            "249957                                                                                                                                                                                                                                                                                                                                                                                                                                                                                                                                                                                                                                                                                                      maybe because this video was published just yesterday so people r excited. because it's really helpful.i wouldn't post this if i saw that it was already here. i just found a helpful video so i recommended it. i saw that it's better than just coming here and throwing sources all over ur faces all of a sudden. u didn't have to come at me like that but it's okay nvm.   \n",
            "249961                                                                                                                                                                                                                                                                                                                                                                                                                                                                                                                                                                                                                                                                                                                                                                                                                                                                                                            believe me i know. it's no coincidence that putin despises zelensky for being a jew as well. the amount of at semitic behaviour from uneducated people online is insane.   \n",
            "249976  this is why there isn’t a one state solution to prevent apartheid \\n\\nthe entire purpose of israel is a jewish governed democratic state. (the right to self governance + the right to not be genocided)\\n\\nby your argument if americans moved onto an indian reservation they would be the majority therefore native american reservations are apartheid territories \\n\\ninstead there are 2 territories. palestine is apartheid and jews are not equal. in israel jews arabs and others all have the same rights. \\nindigenous jews have a right to return as an exception due to being chased out of multiple countries \\n\\n\\ni’m not arguing that the west bank situation is acceptable or right or how it should be just pointing to the hole in your argument that israel is apartheid. \\n\\nisrael is not apartheid. a 1 state solution would be apartheid (which is a major setback in peace talks as many palestinians want a 1 state solution in order to move back to cities with family history. this is why it’s considered a complicated issue despite being simple)   \n",
            "\n",
            "         predicted_label    month  \n",
            "18              negative  2023-11  \n",
            "47              positive  2023-11  \n",
            "68      extreme negative  2023-11  \n",
            "81               neutral  2023-11  \n",
            "86              positive  2023-11  \n",
            "...                  ...      ...  \n",
            "249932          positive  2023-11  \n",
            "249944          positive  2023-11  \n",
            "249957          positive  2023-11  \n",
            "249961  extreme negative  2023-10  \n",
            "249976          positive  2023-11  \n",
            "\n",
            "[35796 rows x 27 columns]\n",
            "T-statistic: nan\n",
            "P-value: nan\n"
          ]
        }
      ]
    }
  ],
  "metadata": {
    "colab": {
      "machine_shape": "hm",
      "provenance": [],
      "include_colab_link": true
    },
    "kernelspec": {
      "display_name": "Python 3",
      "name": "python3"
    },
    "language_info": {
      "codemirror_mode": {
        "name": "ipython",
        "version": 3
      },
      "file_extension": ".py",
      "mimetype": "text/x-python",
      "name": "python",
      "nbconvert_exporter": "python",
      "pygments_lexer": "ipython3",
      "version": "3.11.10"
    },
    "widgets": {
      "application/vnd.jupyter.widget-state+json": {
        "a994f798052b40869a36ad71c6a6cc3b": {
          "model_module": "@jupyter-widgets/controls",
          "model_name": "HBoxModel",
          "model_module_version": "1.5.0",
          "state": {
            "_dom_classes": [],
            "_model_module": "@jupyter-widgets/controls",
            "_model_module_version": "1.5.0",
            "_model_name": "HBoxModel",
            "_view_count": null,
            "_view_module": "@jupyter-widgets/controls",
            "_view_module_version": "1.5.0",
            "_view_name": "HBoxView",
            "box_style": "",
            "children": [
              "IPY_MODEL_96e292a674f74a89a7defcf4919ecd8e",
              "IPY_MODEL_f1aa47d4c79947c29a25a19dd29db042",
              "IPY_MODEL_32c3247d094d486a9ff63e2310ca55c6"
            ],
            "layout": "IPY_MODEL_b1b1ff64f9ec476f86fd3544e64bdfd5"
          }
        },
        "96e292a674f74a89a7defcf4919ecd8e": {
          "model_module": "@jupyter-widgets/controls",
          "model_name": "HTMLModel",
          "model_module_version": "1.5.0",
          "state": {
            "_dom_classes": [],
            "_model_module": "@jupyter-widgets/controls",
            "_model_module_version": "1.5.0",
            "_model_name": "HTMLModel",
            "_view_count": null,
            "_view_module": "@jupyter-widgets/controls",
            "_view_module_version": "1.5.0",
            "_view_name": "HTMLView",
            "description": "",
            "description_tooltip": null,
            "layout": "IPY_MODEL_9045fc67f0574e30b5071cdedb2d9ef4",
            "placeholder": "​",
            "style": "IPY_MODEL_d4c1b597cac9433384d3c6c9c7ebfe75",
            "value": "model.safetensors: 100%"
          }
        },
        "f1aa47d4c79947c29a25a19dd29db042": {
          "model_module": "@jupyter-widgets/controls",
          "model_name": "FloatProgressModel",
          "model_module_version": "1.5.0",
          "state": {
            "_dom_classes": [],
            "_model_module": "@jupyter-widgets/controls",
            "_model_module_version": "1.5.0",
            "_model_name": "FloatProgressModel",
            "_view_count": null,
            "_view_module": "@jupyter-widgets/controls",
            "_view_module_version": "1.5.0",
            "_view_name": "ProgressView",
            "bar_style": "success",
            "description": "",
            "description_tooltip": null,
            "layout": "IPY_MODEL_95596ef030b84e3c9a3edf77dd3dd6a2",
            "max": 440449768,
            "min": 0,
            "orientation": "horizontal",
            "style": "IPY_MODEL_f5d9f9054bf34d1abc5c482e53885bf6",
            "value": 440449768
          }
        },
        "32c3247d094d486a9ff63e2310ca55c6": {
          "model_module": "@jupyter-widgets/controls",
          "model_name": "HTMLModel",
          "model_module_version": "1.5.0",
          "state": {
            "_dom_classes": [],
            "_model_module": "@jupyter-widgets/controls",
            "_model_module_version": "1.5.0",
            "_model_name": "HTMLModel",
            "_view_count": null,
            "_view_module": "@jupyter-widgets/controls",
            "_view_module_version": "1.5.0",
            "_view_name": "HTMLView",
            "description": "",
            "description_tooltip": null,
            "layout": "IPY_MODEL_d2df80b65a17471cb9c4d303a42e2674",
            "placeholder": "​",
            "style": "IPY_MODEL_1fa8cdf5bbc14082a43711ffa4860b8b",
            "value": " 440M/440M [00:01&lt;00:00, 251MB/s]"
          }
        },
        "b1b1ff64f9ec476f86fd3544e64bdfd5": {
          "model_module": "@jupyter-widgets/base",
          "model_name": "LayoutModel",
          "model_module_version": "1.2.0",
          "state": {
            "_model_module": "@jupyter-widgets/base",
            "_model_module_version": "1.2.0",
            "_model_name": "LayoutModel",
            "_view_count": null,
            "_view_module": "@jupyter-widgets/base",
            "_view_module_version": "1.2.0",
            "_view_name": "LayoutView",
            "align_content": null,
            "align_items": null,
            "align_self": null,
            "border": null,
            "bottom": null,
            "display": null,
            "flex": null,
            "flex_flow": null,
            "grid_area": null,
            "grid_auto_columns": null,
            "grid_auto_flow": null,
            "grid_auto_rows": null,
            "grid_column": null,
            "grid_gap": null,
            "grid_row": null,
            "grid_template_areas": null,
            "grid_template_columns": null,
            "grid_template_rows": null,
            "height": null,
            "justify_content": null,
            "justify_items": null,
            "left": null,
            "margin": null,
            "max_height": null,
            "max_width": null,
            "min_height": null,
            "min_width": null,
            "object_fit": null,
            "object_position": null,
            "order": null,
            "overflow": null,
            "overflow_x": null,
            "overflow_y": null,
            "padding": null,
            "right": null,
            "top": null,
            "visibility": null,
            "width": null
          }
        },
        "9045fc67f0574e30b5071cdedb2d9ef4": {
          "model_module": "@jupyter-widgets/base",
          "model_name": "LayoutModel",
          "model_module_version": "1.2.0",
          "state": {
            "_model_module": "@jupyter-widgets/base",
            "_model_module_version": "1.2.0",
            "_model_name": "LayoutModel",
            "_view_count": null,
            "_view_module": "@jupyter-widgets/base",
            "_view_module_version": "1.2.0",
            "_view_name": "LayoutView",
            "align_content": null,
            "align_items": null,
            "align_self": null,
            "border": null,
            "bottom": null,
            "display": null,
            "flex": null,
            "flex_flow": null,
            "grid_area": null,
            "grid_auto_columns": null,
            "grid_auto_flow": null,
            "grid_auto_rows": null,
            "grid_column": null,
            "grid_gap": null,
            "grid_row": null,
            "grid_template_areas": null,
            "grid_template_columns": null,
            "grid_template_rows": null,
            "height": null,
            "justify_content": null,
            "justify_items": null,
            "left": null,
            "margin": null,
            "max_height": null,
            "max_width": null,
            "min_height": null,
            "min_width": null,
            "object_fit": null,
            "object_position": null,
            "order": null,
            "overflow": null,
            "overflow_x": null,
            "overflow_y": null,
            "padding": null,
            "right": null,
            "top": null,
            "visibility": null,
            "width": null
          }
        },
        "d4c1b597cac9433384d3c6c9c7ebfe75": {
          "model_module": "@jupyter-widgets/controls",
          "model_name": "DescriptionStyleModel",
          "model_module_version": "1.5.0",
          "state": {
            "_model_module": "@jupyter-widgets/controls",
            "_model_module_version": "1.5.0",
            "_model_name": "DescriptionStyleModel",
            "_view_count": null,
            "_view_module": "@jupyter-widgets/base",
            "_view_module_version": "1.2.0",
            "_view_name": "StyleView",
            "description_width": ""
          }
        },
        "95596ef030b84e3c9a3edf77dd3dd6a2": {
          "model_module": "@jupyter-widgets/base",
          "model_name": "LayoutModel",
          "model_module_version": "1.2.0",
          "state": {
            "_model_module": "@jupyter-widgets/base",
            "_model_module_version": "1.2.0",
            "_model_name": "LayoutModel",
            "_view_count": null,
            "_view_module": "@jupyter-widgets/base",
            "_view_module_version": "1.2.0",
            "_view_name": "LayoutView",
            "align_content": null,
            "align_items": null,
            "align_self": null,
            "border": null,
            "bottom": null,
            "display": null,
            "flex": null,
            "flex_flow": null,
            "grid_area": null,
            "grid_auto_columns": null,
            "grid_auto_flow": null,
            "grid_auto_rows": null,
            "grid_column": null,
            "grid_gap": null,
            "grid_row": null,
            "grid_template_areas": null,
            "grid_template_columns": null,
            "grid_template_rows": null,
            "height": null,
            "justify_content": null,
            "justify_items": null,
            "left": null,
            "margin": null,
            "max_height": null,
            "max_width": null,
            "min_height": null,
            "min_width": null,
            "object_fit": null,
            "object_position": null,
            "order": null,
            "overflow": null,
            "overflow_x": null,
            "overflow_y": null,
            "padding": null,
            "right": null,
            "top": null,
            "visibility": null,
            "width": null
          }
        },
        "f5d9f9054bf34d1abc5c482e53885bf6": {
          "model_module": "@jupyter-widgets/controls",
          "model_name": "ProgressStyleModel",
          "model_module_version": "1.5.0",
          "state": {
            "_model_module": "@jupyter-widgets/controls",
            "_model_module_version": "1.5.0",
            "_model_name": "ProgressStyleModel",
            "_view_count": null,
            "_view_module": "@jupyter-widgets/base",
            "_view_module_version": "1.2.0",
            "_view_name": "StyleView",
            "bar_color": null,
            "description_width": ""
          }
        },
        "d2df80b65a17471cb9c4d303a42e2674": {
          "model_module": "@jupyter-widgets/base",
          "model_name": "LayoutModel",
          "model_module_version": "1.2.0",
          "state": {
            "_model_module": "@jupyter-widgets/base",
            "_model_module_version": "1.2.0",
            "_model_name": "LayoutModel",
            "_view_count": null,
            "_view_module": "@jupyter-widgets/base",
            "_view_module_version": "1.2.0",
            "_view_name": "LayoutView",
            "align_content": null,
            "align_items": null,
            "align_self": null,
            "border": null,
            "bottom": null,
            "display": null,
            "flex": null,
            "flex_flow": null,
            "grid_area": null,
            "grid_auto_columns": null,
            "grid_auto_flow": null,
            "grid_auto_rows": null,
            "grid_column": null,
            "grid_gap": null,
            "grid_row": null,
            "grid_template_areas": null,
            "grid_template_columns": null,
            "grid_template_rows": null,
            "height": null,
            "justify_content": null,
            "justify_items": null,
            "left": null,
            "margin": null,
            "max_height": null,
            "max_width": null,
            "min_height": null,
            "min_width": null,
            "object_fit": null,
            "object_position": null,
            "order": null,
            "overflow": null,
            "overflow_x": null,
            "overflow_y": null,
            "padding": null,
            "right": null,
            "top": null,
            "visibility": null,
            "width": null
          }
        },
        "1fa8cdf5bbc14082a43711ffa4860b8b": {
          "model_module": "@jupyter-widgets/controls",
          "model_name": "DescriptionStyleModel",
          "model_module_version": "1.5.0",
          "state": {
            "_model_module": "@jupyter-widgets/controls",
            "_model_module_version": "1.5.0",
            "_model_name": "DescriptionStyleModel",
            "_view_count": null,
            "_view_module": "@jupyter-widgets/base",
            "_view_module_version": "1.2.0",
            "_view_name": "StyleView",
            "description_width": ""
          }
        },
        "ff416e3810bb474195592e857859bd4d": {
          "model_module": "@jupyter-widgets/controls",
          "model_name": "HBoxModel",
          "model_module_version": "1.5.0",
          "state": {
            "_dom_classes": [],
            "_model_module": "@jupyter-widgets/controls",
            "_model_module_version": "1.5.0",
            "_model_name": "HBoxModel",
            "_view_count": null,
            "_view_module": "@jupyter-widgets/controls",
            "_view_module_version": "1.5.0",
            "_view_name": "HBoxView",
            "box_style": "",
            "children": [
              "IPY_MODEL_325553c2610b4dc9ac9979b988ba81d1",
              "IPY_MODEL_bb920ba5fc2a492cb579c72d631cc987",
              "IPY_MODEL_636e40a9ae2e4e9d9cfd348742aacb37"
            ],
            "layout": "IPY_MODEL_83b644de49e54b7199815412e4250ac9"
          }
        },
        "325553c2610b4dc9ac9979b988ba81d1": {
          "model_module": "@jupyter-widgets/controls",
          "model_name": "HTMLModel",
          "model_module_version": "1.5.0",
          "state": {
            "_dom_classes": [],
            "_model_module": "@jupyter-widgets/controls",
            "_model_module_version": "1.5.0",
            "_model_name": "HTMLModel",
            "_view_count": null,
            "_view_module": "@jupyter-widgets/controls",
            "_view_module_version": "1.5.0",
            "_view_name": "HTMLView",
            "description": "",
            "description_tooltip": null,
            "layout": "IPY_MODEL_5a2f405088d641e0bf2daee7dd59629e",
            "placeholder": "​",
            "style": "IPY_MODEL_ef1527a36f9d41c48d2df9d44317a68c",
            "value": "tokenizer_config.json: 100%"
          }
        },
        "bb920ba5fc2a492cb579c72d631cc987": {
          "model_module": "@jupyter-widgets/controls",
          "model_name": "FloatProgressModel",
          "model_module_version": "1.5.0",
          "state": {
            "_dom_classes": [],
            "_model_module": "@jupyter-widgets/controls",
            "_model_module_version": "1.5.0",
            "_model_name": "FloatProgressModel",
            "_view_count": null,
            "_view_module": "@jupyter-widgets/controls",
            "_view_module_version": "1.5.0",
            "_view_name": "ProgressView",
            "bar_style": "success",
            "description": "",
            "description_tooltip": null,
            "layout": "IPY_MODEL_013fce5389bd49ed827dd98a5b75b5d1",
            "max": 48,
            "min": 0,
            "orientation": "horizontal",
            "style": "IPY_MODEL_e7737d21a8464239a2c0e7867edae28a",
            "value": 48
          }
        },
        "636e40a9ae2e4e9d9cfd348742aacb37": {
          "model_module": "@jupyter-widgets/controls",
          "model_name": "HTMLModel",
          "model_module_version": "1.5.0",
          "state": {
            "_dom_classes": [],
            "_model_module": "@jupyter-widgets/controls",
            "_model_module_version": "1.5.0",
            "_model_name": "HTMLModel",
            "_view_count": null,
            "_view_module": "@jupyter-widgets/controls",
            "_view_module_version": "1.5.0",
            "_view_name": "HTMLView",
            "description": "",
            "description_tooltip": null,
            "layout": "IPY_MODEL_458e20889c1d4f5cbfbbfe52a4d995d4",
            "placeholder": "​",
            "style": "IPY_MODEL_3977afb1d7d440b996a01666aebcb952",
            "value": " 48.0/48.0 [00:00&lt;00:00, 3.64kB/s]"
          }
        },
        "83b644de49e54b7199815412e4250ac9": {
          "model_module": "@jupyter-widgets/base",
          "model_name": "LayoutModel",
          "model_module_version": "1.2.0",
          "state": {
            "_model_module": "@jupyter-widgets/base",
            "_model_module_version": "1.2.0",
            "_model_name": "LayoutModel",
            "_view_count": null,
            "_view_module": "@jupyter-widgets/base",
            "_view_module_version": "1.2.0",
            "_view_name": "LayoutView",
            "align_content": null,
            "align_items": null,
            "align_self": null,
            "border": null,
            "bottom": null,
            "display": null,
            "flex": null,
            "flex_flow": null,
            "grid_area": null,
            "grid_auto_columns": null,
            "grid_auto_flow": null,
            "grid_auto_rows": null,
            "grid_column": null,
            "grid_gap": null,
            "grid_row": null,
            "grid_template_areas": null,
            "grid_template_columns": null,
            "grid_template_rows": null,
            "height": null,
            "justify_content": null,
            "justify_items": null,
            "left": null,
            "margin": null,
            "max_height": null,
            "max_width": null,
            "min_height": null,
            "min_width": null,
            "object_fit": null,
            "object_position": null,
            "order": null,
            "overflow": null,
            "overflow_x": null,
            "overflow_y": null,
            "padding": null,
            "right": null,
            "top": null,
            "visibility": null,
            "width": null
          }
        },
        "5a2f405088d641e0bf2daee7dd59629e": {
          "model_module": "@jupyter-widgets/base",
          "model_name": "LayoutModel",
          "model_module_version": "1.2.0",
          "state": {
            "_model_module": "@jupyter-widgets/base",
            "_model_module_version": "1.2.0",
            "_model_name": "LayoutModel",
            "_view_count": null,
            "_view_module": "@jupyter-widgets/base",
            "_view_module_version": "1.2.0",
            "_view_name": "LayoutView",
            "align_content": null,
            "align_items": null,
            "align_self": null,
            "border": null,
            "bottom": null,
            "display": null,
            "flex": null,
            "flex_flow": null,
            "grid_area": null,
            "grid_auto_columns": null,
            "grid_auto_flow": null,
            "grid_auto_rows": null,
            "grid_column": null,
            "grid_gap": null,
            "grid_row": null,
            "grid_template_areas": null,
            "grid_template_columns": null,
            "grid_template_rows": null,
            "height": null,
            "justify_content": null,
            "justify_items": null,
            "left": null,
            "margin": null,
            "max_height": null,
            "max_width": null,
            "min_height": null,
            "min_width": null,
            "object_fit": null,
            "object_position": null,
            "order": null,
            "overflow": null,
            "overflow_x": null,
            "overflow_y": null,
            "padding": null,
            "right": null,
            "top": null,
            "visibility": null,
            "width": null
          }
        },
        "ef1527a36f9d41c48d2df9d44317a68c": {
          "model_module": "@jupyter-widgets/controls",
          "model_name": "DescriptionStyleModel",
          "model_module_version": "1.5.0",
          "state": {
            "_model_module": "@jupyter-widgets/controls",
            "_model_module_version": "1.5.0",
            "_model_name": "DescriptionStyleModel",
            "_view_count": null,
            "_view_module": "@jupyter-widgets/base",
            "_view_module_version": "1.2.0",
            "_view_name": "StyleView",
            "description_width": ""
          }
        },
        "013fce5389bd49ed827dd98a5b75b5d1": {
          "model_module": "@jupyter-widgets/base",
          "model_name": "LayoutModel",
          "model_module_version": "1.2.0",
          "state": {
            "_model_module": "@jupyter-widgets/base",
            "_model_module_version": "1.2.0",
            "_model_name": "LayoutModel",
            "_view_count": null,
            "_view_module": "@jupyter-widgets/base",
            "_view_module_version": "1.2.0",
            "_view_name": "LayoutView",
            "align_content": null,
            "align_items": null,
            "align_self": null,
            "border": null,
            "bottom": null,
            "display": null,
            "flex": null,
            "flex_flow": null,
            "grid_area": null,
            "grid_auto_columns": null,
            "grid_auto_flow": null,
            "grid_auto_rows": null,
            "grid_column": null,
            "grid_gap": null,
            "grid_row": null,
            "grid_template_areas": null,
            "grid_template_columns": null,
            "grid_template_rows": null,
            "height": null,
            "justify_content": null,
            "justify_items": null,
            "left": null,
            "margin": null,
            "max_height": null,
            "max_width": null,
            "min_height": null,
            "min_width": null,
            "object_fit": null,
            "object_position": null,
            "order": null,
            "overflow": null,
            "overflow_x": null,
            "overflow_y": null,
            "padding": null,
            "right": null,
            "top": null,
            "visibility": null,
            "width": null
          }
        },
        "e7737d21a8464239a2c0e7867edae28a": {
          "model_module": "@jupyter-widgets/controls",
          "model_name": "ProgressStyleModel",
          "model_module_version": "1.5.0",
          "state": {
            "_model_module": "@jupyter-widgets/controls",
            "_model_module_version": "1.5.0",
            "_model_name": "ProgressStyleModel",
            "_view_count": null,
            "_view_module": "@jupyter-widgets/base",
            "_view_module_version": "1.2.0",
            "_view_name": "StyleView",
            "bar_color": null,
            "description_width": ""
          }
        },
        "458e20889c1d4f5cbfbbfe52a4d995d4": {
          "model_module": "@jupyter-widgets/base",
          "model_name": "LayoutModel",
          "model_module_version": "1.2.0",
          "state": {
            "_model_module": "@jupyter-widgets/base",
            "_model_module_version": "1.2.0",
            "_model_name": "LayoutModel",
            "_view_count": null,
            "_view_module": "@jupyter-widgets/base",
            "_view_module_version": "1.2.0",
            "_view_name": "LayoutView",
            "align_content": null,
            "align_items": null,
            "align_self": null,
            "border": null,
            "bottom": null,
            "display": null,
            "flex": null,
            "flex_flow": null,
            "grid_area": null,
            "grid_auto_columns": null,
            "grid_auto_flow": null,
            "grid_auto_rows": null,
            "grid_column": null,
            "grid_gap": null,
            "grid_row": null,
            "grid_template_areas": null,
            "grid_template_columns": null,
            "grid_template_rows": null,
            "height": null,
            "justify_content": null,
            "justify_items": null,
            "left": null,
            "margin": null,
            "max_height": null,
            "max_width": null,
            "min_height": null,
            "min_width": null,
            "object_fit": null,
            "object_position": null,
            "order": null,
            "overflow": null,
            "overflow_x": null,
            "overflow_y": null,
            "padding": null,
            "right": null,
            "top": null,
            "visibility": null,
            "width": null
          }
        },
        "3977afb1d7d440b996a01666aebcb952": {
          "model_module": "@jupyter-widgets/controls",
          "model_name": "DescriptionStyleModel",
          "model_module_version": "1.5.0",
          "state": {
            "_model_module": "@jupyter-widgets/controls",
            "_model_module_version": "1.5.0",
            "_model_name": "DescriptionStyleModel",
            "_view_count": null,
            "_view_module": "@jupyter-widgets/base",
            "_view_module_version": "1.2.0",
            "_view_name": "StyleView",
            "description_width": ""
          }
        },
        "3d707193ce124c39947090288ca2ac2b": {
          "model_module": "@jupyter-widgets/controls",
          "model_name": "HBoxModel",
          "model_module_version": "1.5.0",
          "state": {
            "_dom_classes": [],
            "_model_module": "@jupyter-widgets/controls",
            "_model_module_version": "1.5.0",
            "_model_name": "HBoxModel",
            "_view_count": null,
            "_view_module": "@jupyter-widgets/controls",
            "_view_module_version": "1.5.0",
            "_view_name": "HBoxView",
            "box_style": "",
            "children": [
              "IPY_MODEL_79c727661bb4477689d3ce46d0b877d0",
              "IPY_MODEL_38a6bc25329f4d4b8a5c6636284ee8c5",
              "IPY_MODEL_43423228b5324c849657299facd94104"
            ],
            "layout": "IPY_MODEL_57feddbe923c4d468bb3e22932829448"
          }
        },
        "79c727661bb4477689d3ce46d0b877d0": {
          "model_module": "@jupyter-widgets/controls",
          "model_name": "HTMLModel",
          "model_module_version": "1.5.0",
          "state": {
            "_dom_classes": [],
            "_model_module": "@jupyter-widgets/controls",
            "_model_module_version": "1.5.0",
            "_model_name": "HTMLModel",
            "_view_count": null,
            "_view_module": "@jupyter-widgets/controls",
            "_view_module_version": "1.5.0",
            "_view_name": "HTMLView",
            "description": "",
            "description_tooltip": null,
            "layout": "IPY_MODEL_de231bf273c54b9da3632e638815412b",
            "placeholder": "​",
            "style": "IPY_MODEL_67471eba4b9b431399c0893819140d81",
            "value": "vocab.txt: 100%"
          }
        },
        "38a6bc25329f4d4b8a5c6636284ee8c5": {
          "model_module": "@jupyter-widgets/controls",
          "model_name": "FloatProgressModel",
          "model_module_version": "1.5.0",
          "state": {
            "_dom_classes": [],
            "_model_module": "@jupyter-widgets/controls",
            "_model_module_version": "1.5.0",
            "_model_name": "FloatProgressModel",
            "_view_count": null,
            "_view_module": "@jupyter-widgets/controls",
            "_view_module_version": "1.5.0",
            "_view_name": "ProgressView",
            "bar_style": "success",
            "description": "",
            "description_tooltip": null,
            "layout": "IPY_MODEL_dba00fd49c3e44a498a3a2eafdc887fb",
            "max": 231508,
            "min": 0,
            "orientation": "horizontal",
            "style": "IPY_MODEL_d4b940f1988244e38f780e083b37398c",
            "value": 231508
          }
        },
        "43423228b5324c849657299facd94104": {
          "model_module": "@jupyter-widgets/controls",
          "model_name": "HTMLModel",
          "model_module_version": "1.5.0",
          "state": {
            "_dom_classes": [],
            "_model_module": "@jupyter-widgets/controls",
            "_model_module_version": "1.5.0",
            "_model_name": "HTMLModel",
            "_view_count": null,
            "_view_module": "@jupyter-widgets/controls",
            "_view_module_version": "1.5.0",
            "_view_name": "HTMLView",
            "description": "",
            "description_tooltip": null,
            "layout": "IPY_MODEL_352cb9d1e8ba47fdb2f7233d8861d5ac",
            "placeholder": "​",
            "style": "IPY_MODEL_b535165adb484c5093d5387d158e564e",
            "value": " 232k/232k [00:00&lt;00:00, 4.82MB/s]"
          }
        },
        "57feddbe923c4d468bb3e22932829448": {
          "model_module": "@jupyter-widgets/base",
          "model_name": "LayoutModel",
          "model_module_version": "1.2.0",
          "state": {
            "_model_module": "@jupyter-widgets/base",
            "_model_module_version": "1.2.0",
            "_model_name": "LayoutModel",
            "_view_count": null,
            "_view_module": "@jupyter-widgets/base",
            "_view_module_version": "1.2.0",
            "_view_name": "LayoutView",
            "align_content": null,
            "align_items": null,
            "align_self": null,
            "border": null,
            "bottom": null,
            "display": null,
            "flex": null,
            "flex_flow": null,
            "grid_area": null,
            "grid_auto_columns": null,
            "grid_auto_flow": null,
            "grid_auto_rows": null,
            "grid_column": null,
            "grid_gap": null,
            "grid_row": null,
            "grid_template_areas": null,
            "grid_template_columns": null,
            "grid_template_rows": null,
            "height": null,
            "justify_content": null,
            "justify_items": null,
            "left": null,
            "margin": null,
            "max_height": null,
            "max_width": null,
            "min_height": null,
            "min_width": null,
            "object_fit": null,
            "object_position": null,
            "order": null,
            "overflow": null,
            "overflow_x": null,
            "overflow_y": null,
            "padding": null,
            "right": null,
            "top": null,
            "visibility": null,
            "width": null
          }
        },
        "de231bf273c54b9da3632e638815412b": {
          "model_module": "@jupyter-widgets/base",
          "model_name": "LayoutModel",
          "model_module_version": "1.2.0",
          "state": {
            "_model_module": "@jupyter-widgets/base",
            "_model_module_version": "1.2.0",
            "_model_name": "LayoutModel",
            "_view_count": null,
            "_view_module": "@jupyter-widgets/base",
            "_view_module_version": "1.2.0",
            "_view_name": "LayoutView",
            "align_content": null,
            "align_items": null,
            "align_self": null,
            "border": null,
            "bottom": null,
            "display": null,
            "flex": null,
            "flex_flow": null,
            "grid_area": null,
            "grid_auto_columns": null,
            "grid_auto_flow": null,
            "grid_auto_rows": null,
            "grid_column": null,
            "grid_gap": null,
            "grid_row": null,
            "grid_template_areas": null,
            "grid_template_columns": null,
            "grid_template_rows": null,
            "height": null,
            "justify_content": null,
            "justify_items": null,
            "left": null,
            "margin": null,
            "max_height": null,
            "max_width": null,
            "min_height": null,
            "min_width": null,
            "object_fit": null,
            "object_position": null,
            "order": null,
            "overflow": null,
            "overflow_x": null,
            "overflow_y": null,
            "padding": null,
            "right": null,
            "top": null,
            "visibility": null,
            "width": null
          }
        },
        "67471eba4b9b431399c0893819140d81": {
          "model_module": "@jupyter-widgets/controls",
          "model_name": "DescriptionStyleModel",
          "model_module_version": "1.5.0",
          "state": {
            "_model_module": "@jupyter-widgets/controls",
            "_model_module_version": "1.5.0",
            "_model_name": "DescriptionStyleModel",
            "_view_count": null,
            "_view_module": "@jupyter-widgets/base",
            "_view_module_version": "1.2.0",
            "_view_name": "StyleView",
            "description_width": ""
          }
        },
        "dba00fd49c3e44a498a3a2eafdc887fb": {
          "model_module": "@jupyter-widgets/base",
          "model_name": "LayoutModel",
          "model_module_version": "1.2.0",
          "state": {
            "_model_module": "@jupyter-widgets/base",
            "_model_module_version": "1.2.0",
            "_model_name": "LayoutModel",
            "_view_count": null,
            "_view_module": "@jupyter-widgets/base",
            "_view_module_version": "1.2.0",
            "_view_name": "LayoutView",
            "align_content": null,
            "align_items": null,
            "align_self": null,
            "border": null,
            "bottom": null,
            "display": null,
            "flex": null,
            "flex_flow": null,
            "grid_area": null,
            "grid_auto_columns": null,
            "grid_auto_flow": null,
            "grid_auto_rows": null,
            "grid_column": null,
            "grid_gap": null,
            "grid_row": null,
            "grid_template_areas": null,
            "grid_template_columns": null,
            "grid_template_rows": null,
            "height": null,
            "justify_content": null,
            "justify_items": null,
            "left": null,
            "margin": null,
            "max_height": null,
            "max_width": null,
            "min_height": null,
            "min_width": null,
            "object_fit": null,
            "object_position": null,
            "order": null,
            "overflow": null,
            "overflow_x": null,
            "overflow_y": null,
            "padding": null,
            "right": null,
            "top": null,
            "visibility": null,
            "width": null
          }
        },
        "d4b940f1988244e38f780e083b37398c": {
          "model_module": "@jupyter-widgets/controls",
          "model_name": "ProgressStyleModel",
          "model_module_version": "1.5.0",
          "state": {
            "_model_module": "@jupyter-widgets/controls",
            "_model_module_version": "1.5.0",
            "_model_name": "ProgressStyleModel",
            "_view_count": null,
            "_view_module": "@jupyter-widgets/base",
            "_view_module_version": "1.2.0",
            "_view_name": "StyleView",
            "bar_color": null,
            "description_width": ""
          }
        },
        "352cb9d1e8ba47fdb2f7233d8861d5ac": {
          "model_module": "@jupyter-widgets/base",
          "model_name": "LayoutModel",
          "model_module_version": "1.2.0",
          "state": {
            "_model_module": "@jupyter-widgets/base",
            "_model_module_version": "1.2.0",
            "_model_name": "LayoutModel",
            "_view_count": null,
            "_view_module": "@jupyter-widgets/base",
            "_view_module_version": "1.2.0",
            "_view_name": "LayoutView",
            "align_content": null,
            "align_items": null,
            "align_self": null,
            "border": null,
            "bottom": null,
            "display": null,
            "flex": null,
            "flex_flow": null,
            "grid_area": null,
            "grid_auto_columns": null,
            "grid_auto_flow": null,
            "grid_auto_rows": null,
            "grid_column": null,
            "grid_gap": null,
            "grid_row": null,
            "grid_template_areas": null,
            "grid_template_columns": null,
            "grid_template_rows": null,
            "height": null,
            "justify_content": null,
            "justify_items": null,
            "left": null,
            "margin": null,
            "max_height": null,
            "max_width": null,
            "min_height": null,
            "min_width": null,
            "object_fit": null,
            "object_position": null,
            "order": null,
            "overflow": null,
            "overflow_x": null,
            "overflow_y": null,
            "padding": null,
            "right": null,
            "top": null,
            "visibility": null,
            "width": null
          }
        },
        "b535165adb484c5093d5387d158e564e": {
          "model_module": "@jupyter-widgets/controls",
          "model_name": "DescriptionStyleModel",
          "model_module_version": "1.5.0",
          "state": {
            "_model_module": "@jupyter-widgets/controls",
            "_model_module_version": "1.5.0",
            "_model_name": "DescriptionStyleModel",
            "_view_count": null,
            "_view_module": "@jupyter-widgets/base",
            "_view_module_version": "1.2.0",
            "_view_name": "StyleView",
            "description_width": ""
          }
        },
        "885761ca4a554946acbb3505e5c68ece": {
          "model_module": "@jupyter-widgets/controls",
          "model_name": "HBoxModel",
          "model_module_version": "1.5.0",
          "state": {
            "_dom_classes": [],
            "_model_module": "@jupyter-widgets/controls",
            "_model_module_version": "1.5.0",
            "_model_name": "HBoxModel",
            "_view_count": null,
            "_view_module": "@jupyter-widgets/controls",
            "_view_module_version": "1.5.0",
            "_view_name": "HBoxView",
            "box_style": "",
            "children": [
              "IPY_MODEL_8071069ff0074b97abf4f94e23d2582d",
              "IPY_MODEL_91926313d57244c1a25d45e5e5422270",
              "IPY_MODEL_284aab05e30d4894bf64568c2968053e"
            ],
            "layout": "IPY_MODEL_c3a47809c1414c1da8504b8c8b9f349f"
          }
        },
        "8071069ff0074b97abf4f94e23d2582d": {
          "model_module": "@jupyter-widgets/controls",
          "model_name": "HTMLModel",
          "model_module_version": "1.5.0",
          "state": {
            "_dom_classes": [],
            "_model_module": "@jupyter-widgets/controls",
            "_model_module_version": "1.5.0",
            "_model_name": "HTMLModel",
            "_view_count": null,
            "_view_module": "@jupyter-widgets/controls",
            "_view_module_version": "1.5.0",
            "_view_name": "HTMLView",
            "description": "",
            "description_tooltip": null,
            "layout": "IPY_MODEL_610c2ad4846e45b78e70563aced754d1",
            "placeholder": "​",
            "style": "IPY_MODEL_45900d5bb58e4729ad34d10de20d06fa",
            "value": "tokenizer.json: 100%"
          }
        },
        "91926313d57244c1a25d45e5e5422270": {
          "model_module": "@jupyter-widgets/controls",
          "model_name": "FloatProgressModel",
          "model_module_version": "1.5.0",
          "state": {
            "_dom_classes": [],
            "_model_module": "@jupyter-widgets/controls",
            "_model_module_version": "1.5.0",
            "_model_name": "FloatProgressModel",
            "_view_count": null,
            "_view_module": "@jupyter-widgets/controls",
            "_view_module_version": "1.5.0",
            "_view_name": "ProgressView",
            "bar_style": "success",
            "description": "",
            "description_tooltip": null,
            "layout": "IPY_MODEL_f64fa1622fc74379a77160d121f5ed56",
            "max": 466062,
            "min": 0,
            "orientation": "horizontal",
            "style": "IPY_MODEL_3f74230b92af44138f2fb5b80bf6a3c8",
            "value": 466062
          }
        },
        "284aab05e30d4894bf64568c2968053e": {
          "model_module": "@jupyter-widgets/controls",
          "model_name": "HTMLModel",
          "model_module_version": "1.5.0",
          "state": {
            "_dom_classes": [],
            "_model_module": "@jupyter-widgets/controls",
            "_model_module_version": "1.5.0",
            "_model_name": "HTMLModel",
            "_view_count": null,
            "_view_module": "@jupyter-widgets/controls",
            "_view_module_version": "1.5.0",
            "_view_name": "HTMLView",
            "description": "",
            "description_tooltip": null,
            "layout": "IPY_MODEL_4346187b96504378911024c254c99ab4",
            "placeholder": "​",
            "style": "IPY_MODEL_d82ca345f6fb41d99d68ffdeac75c297",
            "value": " 466k/466k [00:00&lt;00:00, 29.7MB/s]"
          }
        },
        "c3a47809c1414c1da8504b8c8b9f349f": {
          "model_module": "@jupyter-widgets/base",
          "model_name": "LayoutModel",
          "model_module_version": "1.2.0",
          "state": {
            "_model_module": "@jupyter-widgets/base",
            "_model_module_version": "1.2.0",
            "_model_name": "LayoutModel",
            "_view_count": null,
            "_view_module": "@jupyter-widgets/base",
            "_view_module_version": "1.2.0",
            "_view_name": "LayoutView",
            "align_content": null,
            "align_items": null,
            "align_self": null,
            "border": null,
            "bottom": null,
            "display": null,
            "flex": null,
            "flex_flow": null,
            "grid_area": null,
            "grid_auto_columns": null,
            "grid_auto_flow": null,
            "grid_auto_rows": null,
            "grid_column": null,
            "grid_gap": null,
            "grid_row": null,
            "grid_template_areas": null,
            "grid_template_columns": null,
            "grid_template_rows": null,
            "height": null,
            "justify_content": null,
            "justify_items": null,
            "left": null,
            "margin": null,
            "max_height": null,
            "max_width": null,
            "min_height": null,
            "min_width": null,
            "object_fit": null,
            "object_position": null,
            "order": null,
            "overflow": null,
            "overflow_x": null,
            "overflow_y": null,
            "padding": null,
            "right": null,
            "top": null,
            "visibility": null,
            "width": null
          }
        },
        "610c2ad4846e45b78e70563aced754d1": {
          "model_module": "@jupyter-widgets/base",
          "model_name": "LayoutModel",
          "model_module_version": "1.2.0",
          "state": {
            "_model_module": "@jupyter-widgets/base",
            "_model_module_version": "1.2.0",
            "_model_name": "LayoutModel",
            "_view_count": null,
            "_view_module": "@jupyter-widgets/base",
            "_view_module_version": "1.2.0",
            "_view_name": "LayoutView",
            "align_content": null,
            "align_items": null,
            "align_self": null,
            "border": null,
            "bottom": null,
            "display": null,
            "flex": null,
            "flex_flow": null,
            "grid_area": null,
            "grid_auto_columns": null,
            "grid_auto_flow": null,
            "grid_auto_rows": null,
            "grid_column": null,
            "grid_gap": null,
            "grid_row": null,
            "grid_template_areas": null,
            "grid_template_columns": null,
            "grid_template_rows": null,
            "height": null,
            "justify_content": null,
            "justify_items": null,
            "left": null,
            "margin": null,
            "max_height": null,
            "max_width": null,
            "min_height": null,
            "min_width": null,
            "object_fit": null,
            "object_position": null,
            "order": null,
            "overflow": null,
            "overflow_x": null,
            "overflow_y": null,
            "padding": null,
            "right": null,
            "top": null,
            "visibility": null,
            "width": null
          }
        },
        "45900d5bb58e4729ad34d10de20d06fa": {
          "model_module": "@jupyter-widgets/controls",
          "model_name": "DescriptionStyleModel",
          "model_module_version": "1.5.0",
          "state": {
            "_model_module": "@jupyter-widgets/controls",
            "_model_module_version": "1.5.0",
            "_model_name": "DescriptionStyleModel",
            "_view_count": null,
            "_view_module": "@jupyter-widgets/base",
            "_view_module_version": "1.2.0",
            "_view_name": "StyleView",
            "description_width": ""
          }
        },
        "f64fa1622fc74379a77160d121f5ed56": {
          "model_module": "@jupyter-widgets/base",
          "model_name": "LayoutModel",
          "model_module_version": "1.2.0",
          "state": {
            "_model_module": "@jupyter-widgets/base",
            "_model_module_version": "1.2.0",
            "_model_name": "LayoutModel",
            "_view_count": null,
            "_view_module": "@jupyter-widgets/base",
            "_view_module_version": "1.2.0",
            "_view_name": "LayoutView",
            "align_content": null,
            "align_items": null,
            "align_self": null,
            "border": null,
            "bottom": null,
            "display": null,
            "flex": null,
            "flex_flow": null,
            "grid_area": null,
            "grid_auto_columns": null,
            "grid_auto_flow": null,
            "grid_auto_rows": null,
            "grid_column": null,
            "grid_gap": null,
            "grid_row": null,
            "grid_template_areas": null,
            "grid_template_columns": null,
            "grid_template_rows": null,
            "height": null,
            "justify_content": null,
            "justify_items": null,
            "left": null,
            "margin": null,
            "max_height": null,
            "max_width": null,
            "min_height": null,
            "min_width": null,
            "object_fit": null,
            "object_position": null,
            "order": null,
            "overflow": null,
            "overflow_x": null,
            "overflow_y": null,
            "padding": null,
            "right": null,
            "top": null,
            "visibility": null,
            "width": null
          }
        },
        "3f74230b92af44138f2fb5b80bf6a3c8": {
          "model_module": "@jupyter-widgets/controls",
          "model_name": "ProgressStyleModel",
          "model_module_version": "1.5.0",
          "state": {
            "_model_module": "@jupyter-widgets/controls",
            "_model_module_version": "1.5.0",
            "_model_name": "ProgressStyleModel",
            "_view_count": null,
            "_view_module": "@jupyter-widgets/base",
            "_view_module_version": "1.2.0",
            "_view_name": "StyleView",
            "bar_color": null,
            "description_width": ""
          }
        },
        "4346187b96504378911024c254c99ab4": {
          "model_module": "@jupyter-widgets/base",
          "model_name": "LayoutModel",
          "model_module_version": "1.2.0",
          "state": {
            "_model_module": "@jupyter-widgets/base",
            "_model_module_version": "1.2.0",
            "_model_name": "LayoutModel",
            "_view_count": null,
            "_view_module": "@jupyter-widgets/base",
            "_view_module_version": "1.2.0",
            "_view_name": "LayoutView",
            "align_content": null,
            "align_items": null,
            "align_self": null,
            "border": null,
            "bottom": null,
            "display": null,
            "flex": null,
            "flex_flow": null,
            "grid_area": null,
            "grid_auto_columns": null,
            "grid_auto_flow": null,
            "grid_auto_rows": null,
            "grid_column": null,
            "grid_gap": null,
            "grid_row": null,
            "grid_template_areas": null,
            "grid_template_columns": null,
            "grid_template_rows": null,
            "height": null,
            "justify_content": null,
            "justify_items": null,
            "left": null,
            "margin": null,
            "max_height": null,
            "max_width": null,
            "min_height": null,
            "min_width": null,
            "object_fit": null,
            "object_position": null,
            "order": null,
            "overflow": null,
            "overflow_x": null,
            "overflow_y": null,
            "padding": null,
            "right": null,
            "top": null,
            "visibility": null,
            "width": null
          }
        },
        "d82ca345f6fb41d99d68ffdeac75c297": {
          "model_module": "@jupyter-widgets/controls",
          "model_name": "DescriptionStyleModel",
          "model_module_version": "1.5.0",
          "state": {
            "_model_module": "@jupyter-widgets/controls",
            "_model_module_version": "1.5.0",
            "_model_name": "DescriptionStyleModel",
            "_view_count": null,
            "_view_module": "@jupyter-widgets/base",
            "_view_module_version": "1.2.0",
            "_view_name": "StyleView",
            "description_width": ""
          }
        },
        "b7a882b19f4242e99d1e902a669a772e": {
          "model_module": "@jupyter-widgets/controls",
          "model_name": "HBoxModel",
          "model_module_version": "1.5.0",
          "state": {
            "_dom_classes": [],
            "_model_module": "@jupyter-widgets/controls",
            "_model_module_version": "1.5.0",
            "_model_name": "HBoxModel",
            "_view_count": null,
            "_view_module": "@jupyter-widgets/controls",
            "_view_module_version": "1.5.0",
            "_view_name": "HBoxView",
            "box_style": "",
            "children": [
              "IPY_MODEL_a7274a4c51da42b9b2796ea47a9f2bad",
              "IPY_MODEL_5e15df5e5b414238897310d9ea106ca8",
              "IPY_MODEL_c958a315079b48169cd1ed4d74b4c4a9"
            ],
            "layout": "IPY_MODEL_85a372da4c084b86993546331c1c5ec0"
          }
        },
        "a7274a4c51da42b9b2796ea47a9f2bad": {
          "model_module": "@jupyter-widgets/controls",
          "model_name": "HTMLModel",
          "model_module_version": "1.5.0",
          "state": {
            "_dom_classes": [],
            "_model_module": "@jupyter-widgets/controls",
            "_model_module_version": "1.5.0",
            "_model_name": "HTMLModel",
            "_view_count": null,
            "_view_module": "@jupyter-widgets/controls",
            "_view_module_version": "1.5.0",
            "_view_name": "HTMLView",
            "description": "",
            "description_tooltip": null,
            "layout": "IPY_MODEL_9b32033b85054221923b520aa2a98bf9",
            "placeholder": "​",
            "style": "IPY_MODEL_25bd33b6149a40b686dd0c952d8f3b93",
            "value": "config.json: 100%"
          }
        },
        "5e15df5e5b414238897310d9ea106ca8": {
          "model_module": "@jupyter-widgets/controls",
          "model_name": "FloatProgressModel",
          "model_module_version": "1.5.0",
          "state": {
            "_dom_classes": [],
            "_model_module": "@jupyter-widgets/controls",
            "_model_module_version": "1.5.0",
            "_model_name": "FloatProgressModel",
            "_view_count": null,
            "_view_module": "@jupyter-widgets/controls",
            "_view_module_version": "1.5.0",
            "_view_name": "ProgressView",
            "bar_style": "success",
            "description": "",
            "description_tooltip": null,
            "layout": "IPY_MODEL_c45ee649b54e45608bf35667b7afb5d6",
            "max": 570,
            "min": 0,
            "orientation": "horizontal",
            "style": "IPY_MODEL_670dc606a848477789265527af4ceaef",
            "value": 570
          }
        },
        "c958a315079b48169cd1ed4d74b4c4a9": {
          "model_module": "@jupyter-widgets/controls",
          "model_name": "HTMLModel",
          "model_module_version": "1.5.0",
          "state": {
            "_dom_classes": [],
            "_model_module": "@jupyter-widgets/controls",
            "_model_module_version": "1.5.0",
            "_model_name": "HTMLModel",
            "_view_count": null,
            "_view_module": "@jupyter-widgets/controls",
            "_view_module_version": "1.5.0",
            "_view_name": "HTMLView",
            "description": "",
            "description_tooltip": null,
            "layout": "IPY_MODEL_c799cdc565bf4dbcbd85cf9eaf167bb3",
            "placeholder": "​",
            "style": "IPY_MODEL_94c957ab6265475688236a6e26a8633b",
            "value": " 570/570 [00:00&lt;00:00, 51.7kB/s]"
          }
        },
        "85a372da4c084b86993546331c1c5ec0": {
          "model_module": "@jupyter-widgets/base",
          "model_name": "LayoutModel",
          "model_module_version": "1.2.0",
          "state": {
            "_model_module": "@jupyter-widgets/base",
            "_model_module_version": "1.2.0",
            "_model_name": "LayoutModel",
            "_view_count": null,
            "_view_module": "@jupyter-widgets/base",
            "_view_module_version": "1.2.0",
            "_view_name": "LayoutView",
            "align_content": null,
            "align_items": null,
            "align_self": null,
            "border": null,
            "bottom": null,
            "display": null,
            "flex": null,
            "flex_flow": null,
            "grid_area": null,
            "grid_auto_columns": null,
            "grid_auto_flow": null,
            "grid_auto_rows": null,
            "grid_column": null,
            "grid_gap": null,
            "grid_row": null,
            "grid_template_areas": null,
            "grid_template_columns": null,
            "grid_template_rows": null,
            "height": null,
            "justify_content": null,
            "justify_items": null,
            "left": null,
            "margin": null,
            "max_height": null,
            "max_width": null,
            "min_height": null,
            "min_width": null,
            "object_fit": null,
            "object_position": null,
            "order": null,
            "overflow": null,
            "overflow_x": null,
            "overflow_y": null,
            "padding": null,
            "right": null,
            "top": null,
            "visibility": null,
            "width": null
          }
        },
        "9b32033b85054221923b520aa2a98bf9": {
          "model_module": "@jupyter-widgets/base",
          "model_name": "LayoutModel",
          "model_module_version": "1.2.0",
          "state": {
            "_model_module": "@jupyter-widgets/base",
            "_model_module_version": "1.2.0",
            "_model_name": "LayoutModel",
            "_view_count": null,
            "_view_module": "@jupyter-widgets/base",
            "_view_module_version": "1.2.0",
            "_view_name": "LayoutView",
            "align_content": null,
            "align_items": null,
            "align_self": null,
            "border": null,
            "bottom": null,
            "display": null,
            "flex": null,
            "flex_flow": null,
            "grid_area": null,
            "grid_auto_columns": null,
            "grid_auto_flow": null,
            "grid_auto_rows": null,
            "grid_column": null,
            "grid_gap": null,
            "grid_row": null,
            "grid_template_areas": null,
            "grid_template_columns": null,
            "grid_template_rows": null,
            "height": null,
            "justify_content": null,
            "justify_items": null,
            "left": null,
            "margin": null,
            "max_height": null,
            "max_width": null,
            "min_height": null,
            "min_width": null,
            "object_fit": null,
            "object_position": null,
            "order": null,
            "overflow": null,
            "overflow_x": null,
            "overflow_y": null,
            "padding": null,
            "right": null,
            "top": null,
            "visibility": null,
            "width": null
          }
        },
        "25bd33b6149a40b686dd0c952d8f3b93": {
          "model_module": "@jupyter-widgets/controls",
          "model_name": "DescriptionStyleModel",
          "model_module_version": "1.5.0",
          "state": {
            "_model_module": "@jupyter-widgets/controls",
            "_model_module_version": "1.5.0",
            "_model_name": "DescriptionStyleModel",
            "_view_count": null,
            "_view_module": "@jupyter-widgets/base",
            "_view_module_version": "1.2.0",
            "_view_name": "StyleView",
            "description_width": ""
          }
        },
        "c45ee649b54e45608bf35667b7afb5d6": {
          "model_module": "@jupyter-widgets/base",
          "model_name": "LayoutModel",
          "model_module_version": "1.2.0",
          "state": {
            "_model_module": "@jupyter-widgets/base",
            "_model_module_version": "1.2.0",
            "_model_name": "LayoutModel",
            "_view_count": null,
            "_view_module": "@jupyter-widgets/base",
            "_view_module_version": "1.2.0",
            "_view_name": "LayoutView",
            "align_content": null,
            "align_items": null,
            "align_self": null,
            "border": null,
            "bottom": null,
            "display": null,
            "flex": null,
            "flex_flow": null,
            "grid_area": null,
            "grid_auto_columns": null,
            "grid_auto_flow": null,
            "grid_auto_rows": null,
            "grid_column": null,
            "grid_gap": null,
            "grid_row": null,
            "grid_template_areas": null,
            "grid_template_columns": null,
            "grid_template_rows": null,
            "height": null,
            "justify_content": null,
            "justify_items": null,
            "left": null,
            "margin": null,
            "max_height": null,
            "max_width": null,
            "min_height": null,
            "min_width": null,
            "object_fit": null,
            "object_position": null,
            "order": null,
            "overflow": null,
            "overflow_x": null,
            "overflow_y": null,
            "padding": null,
            "right": null,
            "top": null,
            "visibility": null,
            "width": null
          }
        },
        "670dc606a848477789265527af4ceaef": {
          "model_module": "@jupyter-widgets/controls",
          "model_name": "ProgressStyleModel",
          "model_module_version": "1.5.0",
          "state": {
            "_model_module": "@jupyter-widgets/controls",
            "_model_module_version": "1.5.0",
            "_model_name": "ProgressStyleModel",
            "_view_count": null,
            "_view_module": "@jupyter-widgets/base",
            "_view_module_version": "1.2.0",
            "_view_name": "StyleView",
            "bar_color": null,
            "description_width": ""
          }
        },
        "c799cdc565bf4dbcbd85cf9eaf167bb3": {
          "model_module": "@jupyter-widgets/base",
          "model_name": "LayoutModel",
          "model_module_version": "1.2.0",
          "state": {
            "_model_module": "@jupyter-widgets/base",
            "_model_module_version": "1.2.0",
            "_model_name": "LayoutModel",
            "_view_count": null,
            "_view_module": "@jupyter-widgets/base",
            "_view_module_version": "1.2.0",
            "_view_name": "LayoutView",
            "align_content": null,
            "align_items": null,
            "align_self": null,
            "border": null,
            "bottom": null,
            "display": null,
            "flex": null,
            "flex_flow": null,
            "grid_area": null,
            "grid_auto_columns": null,
            "grid_auto_flow": null,
            "grid_auto_rows": null,
            "grid_column": null,
            "grid_gap": null,
            "grid_row": null,
            "grid_template_areas": null,
            "grid_template_columns": null,
            "grid_template_rows": null,
            "height": null,
            "justify_content": null,
            "justify_items": null,
            "left": null,
            "margin": null,
            "max_height": null,
            "max_width": null,
            "min_height": null,
            "min_width": null,
            "object_fit": null,
            "object_position": null,
            "order": null,
            "overflow": null,
            "overflow_x": null,
            "overflow_y": null,
            "padding": null,
            "right": null,
            "top": null,
            "visibility": null,
            "width": null
          }
        },
        "94c957ab6265475688236a6e26a8633b": {
          "model_module": "@jupyter-widgets/controls",
          "model_name": "DescriptionStyleModel",
          "model_module_version": "1.5.0",
          "state": {
            "_model_module": "@jupyter-widgets/controls",
            "_model_module_version": "1.5.0",
            "_model_name": "DescriptionStyleModel",
            "_view_count": null,
            "_view_module": "@jupyter-widgets/base",
            "_view_module_version": "1.2.0",
            "_view_name": "StyleView",
            "description_width": ""
          }
        }
      }
    }
  },
  "nbformat": 4,
  "nbformat_minor": 5
}